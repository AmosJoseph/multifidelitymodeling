{
 "cells": [
  {
   "cell_type": "code",
   "execution_count": 33,
   "id": "b3695007-2da0-4a12-8bc3-dfd117c5a421",
   "metadata": {},
   "outputs": [],
   "source": [
    "import code \n",
    "import os\n",
    "\n",
    "path = \"/home/tyty/Desktop/CFD_Files/AFRL_Scholars/1st_Round_Ls\"\n",
    "os.chdir(path)\n",
    "retval = os.getcwd()\n",
    "# print(\"Current working directory %s\" % retval)\n",
    "dirList = list(os.listdir(path))\n",
    "len(dirList)\n",
    "dirListRun = []\n",
    "for entry in dirList: \n",
    "    if entry.startswith('Run'):\n",
    "        dirListRun.append(entry)\n",
    "dirList = None\n",
    "\n",
    "i=0\n",
    "for dirName in dirListRun:\n",
    "    if dirName[5] == '_':\n",
    "        dirName = dirName[:3] + '0' + dirName[3:]\n",
    "        os.rename(dirListRun[i], dirName)\n",
    "    if dirName[4] == '_':\n",
    "        dirName = dirName[:3] + '00' + dirName[3:]\n",
    "        os.rename(dirListRun[i], dirName)\n",
    "    i+=1"
   ]
  }
 ],
 "metadata": {
  "kernelspec": {
   "display_name": "Python 3 (ipykernel)",
   "language": "python",
   "name": "python3"
  },
  "language_info": {
   "codemirror_mode": {
    "name": "ipython",
    "version": 3
   },
   "file_extension": ".py",
   "mimetype": "text/x-python",
   "name": "python",
   "nbconvert_exporter": "python",
   "pygments_lexer": "ipython3",
   "version": "3.9.7"
  }
 },
 "nbformat": 4,
 "nbformat_minor": 5
}
