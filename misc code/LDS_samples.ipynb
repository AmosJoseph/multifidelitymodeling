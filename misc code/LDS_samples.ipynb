{
 "cells": [
  {
   "cell_type": "code",
   "execution_count": 45,
   "metadata": {},
   "outputs": [
    {
     "name": "stdout",
     "output_type": "stream",
     "text": [
      "You HAVE NOT selected a power of 2 for number of cases.\n",
      "Based on your desired number of CFD cases, you'll need to run 320 cases to safely use LDS.The next lowest increment is 160 CFD cases\n",
      "\n",
      "discrepancy of sample: 0.0031211288638202106. seed: 0\n",
      "discrepancy of sample: 0.0031211288638202106. seed: 1\n",
      "discrepancy of sample: 0.0005947820123695102. seed: 2\n",
      "discrepancy of sample: 0.0031211288638202106. seed: 3\n",
      "discrepancy of sample: 0.0031211288638202106. seed: 4\n",
      "You have 6 number of input variables and a total of 330 number of cases.\n",
      "Shape of your input sample array: (330, 6)\n"
     ]
    }
   ],
   "source": [
    "import numpy as np\n",
    "import math\n",
    "import pandas as pd\n",
    "from scipy.stats import qmc\n",
    "\n",
    "desiredTotalCFDCases = 200\n",
    "inputParamNames = [\n",
    "    'deformationMode',\n",
    "    'mach',\n",
    "    'reynolds',\n",
    "    'freestreamTemp',\n",
    "    'lengthFromFlare',\n",
    "    'deformationLength'\n",
    "]\n",
    "\n",
    "l_bounds = [3, 1e6, 80, 0, 19]\n",
    "u_bounds = [8, 5e7, 150, 2, 76]\n",
    "\n",
    "deformationModes = [-2,-1,0,1,2] #user defined deformation modes \n",
    "numCasesPerMode = desiredTotalCFDCases/len(deformationModes) # divide CFD case budget by the number of def modes \n",
    "seedBaseNumbers = np.arange(0,len(deformationModes)) # create numpy array for LDS seed. seed ensures repeatability \n",
    "seedList = [base for base in seedBaseNumbers] #turns np array in list\n",
    "deformationModesZeroIndex = np.where(np.asarray(deformationModes)==0)[0][0] # finds the index where deformation mode == 0. \n",
    "\n",
    "m = math.log2(numCasesPerMode)\n",
    "m = math.ceil(m)\n",
    "\n",
    "printDict = {\n",
    "    True: 'HAVE',\n",
    "    False: 'HAVE NOT'\n",
    "}\n",
    "\n",
    "def is_power_of_two(number : int) -> bool:\n",
    "    while number != 1:\n",
    "        if number % 2:\n",
    "            return False\n",
    "        number /= 2\n",
    "    return True\n",
    "\n",
    "powerBool = is_power_of_two(number=numCasesPerMode) # creates boolean if the number of cases creates a power of 2 for the low discrepancy sequence  \n",
    "\n",
    "print(f'You {printDict[powerBool]} selected a power of 2 for number of cases.') \n",
    "if not powerBool:\n",
    "    print(f'Based on your desired number of CFD cases, you\\'ll need to run {(2**m)*len(deformationModes)} cases to safely use LDS.The next lowest increment is {(2**(m-1))*len(deformationModes)} CFD cases\\n')\n",
    "\n",
    "for i, seed in enumerate(seedList):\n",
    "    if seed == seedList[deformationModesZeroIndex]: \n",
    "        l_bounds_mod = l_bounds[:3] #removing the 'length from flare' and 'deformation length'\n",
    "        u_bounds_mod = u_bounds[:3] #removing the 'length from flare' and 'deformation length'\n",
    "        sampler = qmc.Sobol(d=len(l_bounds_mod), scramble=False,seed = seed)\n",
    "        sample = sampler.random_base2(m=m)\n",
    "        print(f'discrepancy of sample: {qmc.discrepancy(sample)}. seed: {seed}')\n",
    "        sample = qmc.scale(sample, l_bounds_mod, u_bounds_mod)\n",
    "        tiledModes = np.tile(deformationModes[i], 2**m).reshape(-1,1)\n",
    "        stackedSample = np.hstack((tiledModes,sample))\n",
    "        zerosArray = np.zeros(shape=(2**m, 2))\n",
    "        stackedSample = np.hstack((stackedSample,zerosArray))\n",
    "    else:\n",
    "        sampler = qmc.Sobol(d=len(l_bounds), scramble=False,seed = seed)\n",
    "        sample = sampler.random_base2(m=m)\n",
    "        print(f'discrepancy of sample: {qmc.discrepancy(sample)}. seed: {seed}')\n",
    "        sample = qmc.scale(sample, l_bounds, u_bounds)\n",
    "        tiledModes = np.tile(deformationModes[i], 2**m).reshape(-1,1)\n",
    "        stackedSample = np.hstack((tiledModes,sample))\n",
    "    if i ==0:\n",
    "        sampleArray = stackedSample\n",
    "    else: \n",
    "        sampleArray = np.concatenate((sampleArray, stackedSample))\n",
    "\n",
    "\n",
    "new_data=np.array([[2, 4, 20000000, 128, 1, 38],[1, 4, 20000000, 128, 1, 38],[-2, 4, 20000000, 128, 1, 38],[-1, 4, 20000000, 128, 1, 38],[0, 4, 20000000, 128, 0, 0],[2, 7, 5000000, 93.5, 1, 38],[1, 7, 5000000, 93.5, 1, 38],[-2, 7, 5000000, 93.5, 1, 38],[-1, 7, 5000000, 93.5, 1, 38],[0, 7, 5000000, 93.5, 0, 0]])\n",
    "sampleArray = np.concatenate((sampleArray,new_data))\n",
    "\n",
    "print(f'You have {sampleArray.shape[1]} number of input variables and a total of {sampleArray.shape[0]} number of cases.')\n",
    "print(f'Shape of your input sample array: {sampleArray.shape}')\n",
    "\n",
    "df = pd.DataFrame(data = sampleArray, columns = inputParamNames)\n",
    "df.to_csv('./inputVariables.csv')\n"
   ]
  }
 ],
 "metadata": {
  "kernelspec": {
   "display_name": "Python 3.9.7 64-bit",
   "language": "python",
   "name": "python3"
  },
  "language_info": {
   "codemirror_mode": {
    "name": "ipython",
    "version": 3
   },
   "file_extension": ".py",
   "mimetype": "text/x-python",
   "name": "python",
   "nbconvert_exporter": "python",
   "pygments_lexer": "ipython3",
   "version": "3.9.7"
  },
  "orig_nbformat": 4,
  "vscode": {
   "interpreter": {
    "hash": "081af3024f16a256c5b6c8c49e7d6c68935d0cb335782e21a8d7e5584a02a432"
   }
  }
 },
 "nbformat": 4,
 "nbformat_minor": 2
}
