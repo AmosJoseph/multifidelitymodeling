{
 "cells": [
  {
   "cell_type": "code",
   "execution_count": 1,
   "id": "fab4a355",
   "metadata": {},
   "outputs": [],
   "source": [
    "import os\n",
    "os.environ['TF_CPP_MIN_LOG_LEVEL'] = '1'#Supress debug info \n",
    "\n",
    "import numpy as np\n",
    "import matplotlib.pyplot as plt\n",
    "import tensorflow as tf\n",
    "from tensorflow import keras\n",
    "from tqdm.keras import TqdmCallback\n",
    "from sklearn import preprocessing\n",
    "# from sklearn.model_selection import KFold\n",
    "from sklearn.utils import shuffle\n",
    "\n",
    "from sklearn import gaussian_process\n",
    "from sklearn.gaussian_process.kernels import Matern, WhiteKernel, ConstantKernel, RBF, RationalQuadratic\n",
    "from sklearn.metrics import r2_score\n",
    "\n",
    "import timeit"
   ]
  },
  {
   "cell_type": "markdown",
   "id": "284a7fee",
   "metadata": {},
   "source": [
    "### Benchmark Functions from Guo et al.\n",
    "Guo, M., Manzoni, A, Amendt, M., Conti, P., Hesthaven, J.S., \"Multi-fidelity regression using artificial neural networks: efficient approximation of parameter-dependent\n",
    "output quantities,\" [arXiv:2102.13403](https://arxiv.org/abs/2102.13403), 2021.\n",
    "\n",
    "##### Benchmark 1: Low Fidelity Function\n",
    "$$ y_{lf} = 0.5y_{hf} + 10(x-0.5) + 5 $$"
   ]
  },
  {
   "cell_type": "code",
   "execution_count": 2,
   "id": "1567b3f4",
   "metadata": {
    "pycharm": {
     "name": "#%%\n"
    }
   },
   "outputs": [],
   "source": [
    "def bench1_lf_func(x):\n",
    "    y = 0.5*bench1_hf_func(x) + 10.*(x-0.5) + 5.\n",
    "    return y"
   ]
  },
  {
   "cell_type": "markdown",
   "id": "5cba5be6",
   "metadata": {
    "pycharm": {
     "name": "#%% md\n"
    }
   },
   "source": [
    "##### Benchmark 1: High Fidelity Function\n",
    "$$ y_{hf} = (6x-2)^2 \\sin(12x-4) $$"
   ]
  },
  {
   "cell_type": "code",
   "execution_count": 3,
   "id": "c10e36cb",
   "metadata": {},
   "outputs": [],
   "source": [
    "def bench1_hf_func(x):\n",
    "    y = ((6.*x-2.)**2)*np.sin(12.*x -4.)\n",
    "    return y"
   ]
  },
  {
   "cell_type": "markdown",
   "id": "00218b88",
   "metadata": {},
   "source": [
    "##### Benchmark 2: Low Fidelity Function\n",
    "$\n",
    "\\begin{aligned}\n",
    "y_{lf} &= 0.5(6x-2)^2 \\sin(12x-4) + 10(x-0.5) -5, \\; \\;  0 \\leq x < 0.5 \\\\\n",
    "&= 3 + 0.5(6x-2)^2 \\sin(12x-4) + 10(x-0.5) - 5, \\; \\; 0.5 \\leq x \\leq 1.0\n",
    "\\end{aligned}\n",
    "$"
   ]
  },
  {
   "cell_type": "code",
   "execution_count": 4,
   "id": "9bde4f5c",
   "metadata": {
    "pycharm": {
     "name": "#%%\n"
    }
   },
   "outputs": [],
   "source": [
    "def bench2_lf_func(x):\n",
    "    if 0 <= x < 0.5:\n",
    "        y = 0.5*((6.*x-2.)**2)*np.sin(12.*x-4.) + 10.*(x-0.5) - 5.\n",
    "    else:\n",
    "        y = 3. + 0.5*((6.*x-2.)**2)*np.sin(12.*x-4.) + 10.*(x-0.5) - 5.\n",
    "    return y"
   ]
  },
  {
   "cell_type": "markdown",
   "id": "561cfc6d",
   "metadata": {
    "pycharm": {
     "name": "#%% md\n"
    }
   },
   "source": [
    "##### Benchmark 2: High Fidelity Function\n",
    "$\n",
    "\\begin{aligned}\n",
    "y_{hf} &= 2y_{lf} - 20(x-1), \\; \\; 0 \\leq x < 0.5 \\\\\n",
    "&= 4 + 2y_{lf} - 20(x-1), \\; \\; 0.5 \\leq x \\leq 1.0\n",
    "\\end{aligned}\n",
    "$"
   ]
  },
  {
   "cell_type": "code",
   "execution_count": 5,
   "id": "5aba55e7",
   "metadata": {
    "pycharm": {
     "name": "#%%\n"
    }
   },
   "outputs": [],
   "source": [
    "def bench2_hf_func(x):\n",
    "    if 0 <= x < 0.5:\n",
    "        y = 2.0*bench2_lf_func(x) - 20.0*(x-1.0)\n",
    "    else: \n",
    "        y = 4.0 + 2.0*bench2_lf_func(x) - 20.0*(x-1.0)\n",
    "    return y"
   ]
  },
  {
   "cell_type": "markdown",
   "id": "f37935c0",
   "metadata": {
    "pycharm": {
     "name": "#%% md\n"
    }
   },
   "source": [
    "##### Benchmark 3 Low Fidelity Function\n",
    "$$ y_{lf} = \\sin(8 \\pi x) $$"
   ]
  },
  {
   "cell_type": "code",
   "execution_count": 6,
   "id": "c1ec0b41",
   "metadata": {
    "pycharm": {
     "name": "#%%\n"
    }
   },
   "outputs": [],
   "source": [
    "def bench3_lf_func(x):\n",
    "    y = np.sin(8.*np.pi*x)\n",
    "    return y"
   ]
  },
  {
   "cell_type": "markdown",
   "id": "6e270f5a",
   "metadata": {
    "pycharm": {
     "name": "#%% md\n"
    }
   },
   "source": [
    "##### Benchmark 3 High Fidelity Function\n",
    "$$ y_{hf} = (x-\\sqrt{2})y_{lf}^2 $$"
   ]
  },
  {
   "cell_type": "code",
   "execution_count": 7,
   "id": "ecbbfabf",
   "metadata": {
    "pycharm": {
     "name": "#%%\n"
    }
   },
   "outputs": [],
   "source": [
    "def bench3_hf_func(x):\n",
    "    y = (x-np.sqrt(2.))*bench3_lf_func(x)*bench3_lf_func(x)\n",
    "    return y"
   ]
  },
  {
   "cell_type": "code",
   "execution_count": 8,
   "id": "85c34578",
   "metadata": {},
   "outputs": [],
   "source": [
    "# Keras NN Model Building \n",
    "def buildModel(feats, outs, ref_size, rate, reg):\n",
    "    \"\"\"\n",
    "    :param feats: input parameters/features\n",
    "    :param outs: outputs the NN is fitting\n",
    "    :param ref_size: reference size for building the NN model\n",
    "    :param rate: learning rat\n",
    "    :param reg: L2 regularization value to drop weights\n",
    "    :return:\n",
    "    \"\"\"\n",
    "    \n",
    "    layer1 = ref_size\n",
    "    layer2 = ref_size\n",
    "    layer3 = ref_size\n",
    "        \n",
    "    ins = keras.Input(shape=(feats,))\n",
    "    \n",
    "    x = keras.layers.Dense(layer1, activation=tf.nn.tanh,\n",
    "                          kernel_regularizer=keras.regularizers.l2(reg),\n",
    "                          kernel_initializer = tf.keras.initializers.GlorotUniform())(ins)\n",
    "    \n",
    "    x = keras.layers.Dense(layer2, activation=tf.nn.tanh,\n",
    "                          kernel_regularizer=keras.regularizers.l2(reg),\n",
    "                          kernel_initializer = tf.keras.initializers.GlorotUniform())(x)\n",
    "\n",
    "    # x = keras.layers.Dense(layer3, activation=tf.nn.tanh,\n",
    "    #                       kernel_regularizer=keras.regularizers.l2(reg),\n",
    "    #                       kernel_initializer = tf.keras.initializers.GlorotUniform())(x)\n",
    "    #\n",
    "    # x = keras.layers.Dense(layer3, activation=tf.nn.leaky_relu,\n",
    "    #                       kernel_regularizer=keras.regularizers.l2(reg),\n",
    "    #                       kernel_initializer = tf.keras.initializers.GlorotUniform())(x)\n",
    "\n",
    "    output = keras.layers.Dense(outs, activation=tf.nn.leaky_relu,\n",
    "                                kernel_regularizer=keras.regularizers.l2(reg),\n",
    "                                kernel_initializer = tf.keras.initializers.GlorotUniform())(x)\n",
    "    \n",
    "    model = keras.Model(ins, output)\n",
    "    \n",
    "    model.summary()\n",
    "    \n",
    "    model.compile(optimizer=tf.keras.optimizers.Adamax(learning_rate=rate),\n",
    "                 loss=\"mean_squared_error\",\n",
    "                 metrics=[tf.keras.metrics.MeanSquaredError(),\n",
    "                         tf.keras.metrics.RootMeanSquaredError()])\n",
    "    return model\n",
    "\n",
    "\n",
    "def buildModelMF(feats, outs, ref_size, rate, reg):\n",
    "    \"\"\"\n",
    "\n",
    "    :param feats: input parameters/features\n",
    "    :param outs: outputs the NN is fitting\n",
    "    :param ref_size: reference size for building the NN model\n",
    "    :param rate: learning rate\n",
    "    :param reg: L2 regularization value to drop weights\n",
    "    :return:\n",
    "    \"\"\"\n",
    "    \n",
    "    layer1 = ref_size\n",
    "    \n",
    "    ins = keras.Input(shape=(feats,))\n",
    "    \n",
    "    x = keras.layers.Dense(layer1, activation=tf.nn.tanh,\n",
    "                           kernel_regularizer=keras.regularizers.l2(reg),\n",
    "                           kernel_initializer = tf.keras.initializers.GlorotUniform())(ins)\n",
    "    \n",
    "    output = keras.layers.Dense(outs, activation=tf.nn.leaky_relu,\n",
    "                                kernel_regularizer=keras.regularizers.l2(reg),\n",
    "                                kernel_initializer = tf.keras.initializers.GlorotUniform())(x)\n",
    "    model = keras.Model(ins, output)\n",
    "    \n",
    "    model.summary()\n",
    "    \n",
    "    model.compile(optimizer=tf.keras.optimizers.Adamax(learning_rate=rate),\n",
    "                 loss=\"mean_squared_error\",\n",
    "                 metrics=[tf.keras.metrics.MeanSquaredError(),\n",
    "                         tf.keras.metrics.RootMeanSquaredError()])  \n",
    "    return model\n",
    "\n",
    "\n",
    "def buildModelMFlinear(feats, outs, ref_size, rate, reg):\n",
    "    \"\"\"\n",
    "\n",
    "    :param feats: input parameters/features\n",
    "    :param outs: outputs the NN is fitting\n",
    "    :param ref_size: a reference size for building the NN model\n",
    "    :param rate: learning rate\n",
    "    :param reg: L2 regularization value to drop weights\n",
    "    :return:\n",
    "    \"\"\"\n",
    "    layer1 = ref_size\n",
    "    \n",
    "    ins = keras.Input(shape=(feats,))\n",
    "    \n",
    "    x = keras.layers.Dense(layer1, activation=tf.nn.leaky_relu,\n",
    "                           kernel_regularizer=keras.regularizers.l2(reg),\n",
    "                           kernel_initializer = tf.keras.initializers.GlorotUniform())(ins)\n",
    "    \n",
    "    output = keras.layers.Dense(outs, activation=tf.nn.leaky_relu,\n",
    "                                kernel_regularizer=keras.regularizers.l2(reg),\n",
    "                                kernel_initializer = tf.keras.initializers.GlorotUniform())(x)\n",
    "    \n",
    "    model = keras.Model(ins, output)\n",
    "    \n",
    "    model.summary()\n",
    "    \n",
    "    model.compile(optimizer=tf.keras.optimizers.Adamax(learning_rate=rate),\n",
    "                 loss=\"mean_squared_error\",\n",
    "                 metrics=[tf.keras.metrics.MeanSquaredError(),\n",
    "                         tf.keras.metrics.RootMeanSquaredError()])  \n",
    "    return model\n"
   ]
  },
  {
   "cell_type": "code",
   "execution_count": 9,
   "id": "0f3d07ea",
   "metadata": {},
   "outputs": [],
   "source": [
    "def trainModel(model, myins, myouts, myEpochs, myBatchSize, validSplit):\n",
    "    \"\"\"\n",
    "\n",
    "    :param model:\n",
    "    :param myins: input parameters/features\n",
    "    :param myouts: output that the NN is fitting\n",
    "    :param myEpochs: # of epochs\n",
    "    :param myBatchSize:\n",
    "    :param validSplit:\n",
    "    :return:\n",
    "    \"\"\"\n",
    "\n",
    "    es = keras.callbacks.EarlyStopping(monitor='root_mean_squared_error',\n",
    "                                       mode='min', patience = 1500, verbose=2)\n",
    "\n",
    "    history = model.fit(x=myins,\n",
    "                       y=myouts,\n",
    "                       batch_size=myBatchSize,\n",
    "                       epochs=myEpochs,\n",
    "                       verbose=False,\n",
    "                       shuffle=False,\n",
    "                       validation_split=validSplit,\n",
    "                       use_multiprocessing=True,\n",
    "                       callbacks=[TqdmCallback(verbose=1), es] \n",
    "                       )\n",
    "    epochs = history.epoch\n",
    "    return epochs, history.history"
   ]
  },
  {
   "cell_type": "code",
   "execution_count": 10,
   "id": "89c0afd1",
   "metadata": {
    "pycharm": {
     "name": "#%%\n"
    }
   },
   "outputs": [],
   "source": [
    "def x_samples(benchmark):\n",
    "    \"\"\"\n",
    "    See sampling from Guo et al. benchmarks\n",
    "    Setting up Benchmark Data\n",
    "    :param benchmark:\n",
    "    :return:\n",
    "    \"\"\"\n",
    "    x = np.linspace(0.0, 1.0, num=200).reshape(-1,1)\n",
    "\n",
    "    if bench==1:\n",
    "        xl = np.linspace(0.0, 1.0, num=32).reshape(-1,1)\n",
    "        xh = np.linspace(0.0, 1.0, num=8).reshape(-1,1)\n",
    "    if bench==2:\n",
    "        xl1 = np.linspace(0.0,1.0, num=32).reshape(-1,1)\n",
    "        xl2 = np.linspace(0.45,0.55, num=10).reshape(-1,1)\n",
    "        xl = np.concatenate((xl1, xl2), axis=0)\n",
    "        xh = np.linspace(0.0, 1.0, num=8).reshape(-1,1)\n",
    "    if bench==3:\n",
    "        xl = np.linspace(0.0, 1.0, num=42).reshape(-1,1)\n",
    "        xh = np.linspace(0.0, 1.0, num=15).reshape(-1,1)\n",
    "\n",
    "    return x, xl, xh"
   ]
  },
  {
   "cell_type": "code",
   "execution_count": 11,
   "id": "c6842594",
   "metadata": {
    "pycharm": {
     "name": "#%%\n"
    }
   },
   "outputs": [],
   "source": [
    "def y_samples(benchmark, xl, xh):\n",
    "    \"\"\"\n",
    "\n",
    "    :param benchmark:\n",
    "    :param x:\n",
    "    :return:\n",
    "    \"\"\"\n",
    "    # Low Fidelity Data Samples\n",
    "    yl = np.zeros(shape=np.shape(xl))\n",
    "    for ix in range(len(xl)):\n",
    "        xin = xl[ix,0]\n",
    "        if benchmark==1:\n",
    "            yl[ix,0] = bench1_lf_func(xin)\n",
    "        if benchmark==2:\n",
    "            yl[ix,0] = bench2_lf_func(xin)\n",
    "        if benchmark==3:\n",
    "            yl[ix,0] = bench3_lf_func(xin)\n",
    "\n",
    "    yh = np.zeros(shape=np.shape(xh))\n",
    "    # High Fidelity Data Samples\n",
    "    for ix in range(len(xh)):\n",
    "        xin = xh[ix,0]\n",
    "        if bench==1:\n",
    "            yh[ix,0] = bench1_hf_func(xin)\n",
    "        if bench==2:\n",
    "            yh[ix,0] = bench2_hf_func(xin)\n",
    "        if bench==3:\n",
    "            yh[ix,0] = bench3_hf_func(xin)\n",
    "    return yl, yh"
   ]
  },
  {
   "cell_type": "code",
   "execution_count": 12,
   "id": "805afd9f",
   "metadata": {
    "pycharm": {
     "name": "#%%\n"
    }
   },
   "outputs": [],
   "source": [
    "def y_samples_exact(benchmark, x):\n",
    "    \"\"\"\n",
    "\n",
    "    :param benchmark:\n",
    "    :param x:\n",
    "    :return:\n",
    "    \"\"\"\n",
    "    yh = np.zeros(shape=np.shape(x))\n",
    "    yl = np.zeros(shape=np.shape(x))\n",
    "    for ix in range(len(x)):\n",
    "        xin = x[ix,0]\n",
    "        if benchmark==1:\n",
    "            yh[ix,0] = bench1_hf_func(xin)\n",
    "            yl[ix,0] = bench1_lf_func(xin)\n",
    "        if benchmark==2:\n",
    "            yh[ix,0] = bench2_hf_func(xin)\n",
    "            yl[ix,0] = bench2_lf_func(xin)\n",
    "        if benchmark==3:\n",
    "            yh[ix,0] = bench3_hf_func(xin)\n",
    "            yl[ix,0] = bench3_lf_func(xin)\n",
    "    return yl, yh"
   ]
  },
  {
   "cell_type": "markdown",
   "id": "adb11fbf",
   "metadata": {
    "pycharm": {
     "name": "#%% md\n"
    }
   },
   "source": [
    "### Problem Setup"
   ]
  },
  {
   "cell_type": "code",
   "execution_count": 13,
   "id": "398d1c44",
   "metadata": {},
   "outputs": [],
   "source": [
    "# Setting up Benchmark Data\n",
    "bench = 1\n",
    "\n",
    "ml_train = True\n",
    "gp_train = True\n",
    "\n",
    "xi, xlf, xhf = x_samples(bench)\n",
    "yexactlf, yexacthf = y_samples_exact(bench, xi)\n",
    "ylf, yhf = y_samples(bench, xlf, xhf)"
   ]
  },
  {
   "cell_type": "markdown",
   "id": "7c8ddf91",
   "metadata": {},
   "source": [
    "#### Low-Fidelity Model"
   ]
  },
  {
   "cell_type": "code",
   "execution_count": 14,
   "id": "28c24b10",
   "metadata": {},
   "outputs": [
    {
     "name": "stdout",
     "output_type": "stream",
     "text": [
      "Model: \"model\"\n",
      "_________________________________________________________________\n",
      "Layer (type)                 Output Shape              Param #   \n",
      "=================================================================\n",
      "input_1 (InputLayer)         [(None, 1)]               0         \n",
      "_________________________________________________________________\n",
      "dense (Dense)                (None, 16)                32        \n",
      "_________________________________________________________________\n",
      "dense_1 (Dense)              (None, 16)                272       \n",
      "_________________________________________________________________\n",
      "dense_2 (Dense)              (None, 1)                 17        \n",
      "=================================================================\n",
      "Total params: 321\n",
      "Trainable params: 321\n",
      "Non-trainable params: 0\n",
      "_________________________________________________________________\n"
     ]
    },
    {
     "data": {
      "application/vnd.jupyter.widget-view+json": {
       "model_id": "314413dbd4554685a6691995aa2b96bb",
       "version_major": 2,
       "version_minor": 0
      },
      "text/plain": [
       "0epoch [00:00, ?epoch/s]"
      ]
     },
     "metadata": {},
     "output_type": "display_data"
    },
    {
     "data": {
      "application/vnd.jupyter.widget-view+json": {
       "model_id": "c3d2fc5da0d54c0594a2c653a274add2",
       "version_major": 2,
       "version_minor": 0
      },
      "text/plain": [
       "0batch [00:00, ?batch/s]"
      ]
     },
     "metadata": {},
     "output_type": "display_data"
    }
   ],
   "source": [
    "if ml_train == True:\n",
    "    # Training Low Fidelity Model\n",
    "    #scaler_output_ylf = preprocessing.MinMaxScaler()\n",
    "    scaler_output_ylf = preprocessing.StandardScaler()\n",
    "\n",
    "    outputs_ylf = scaler_output_ylf.fit_transform(ylf)\n",
    "    inTrain = xlf\n",
    "    outTrain = outputs_ylf\n",
    "    inTrain, outTrain = shuffle(inTrain, outTrain)  # shuffle data to use validation_split in Keras\n",
    "    l2reg = 1.0e-6\n",
    "    lrate = 5.0e-2\n",
    "    featsize = int(len(inTrain[0,:]))\n",
    "    outsize = int(len(outTrain[0,:]))\n",
    "    layer_ref_size = len(inTrain)/2 #16\n",
    "    myModel_lf = None\n",
    "    myModel_lf = buildModel(featsize, outsize, layer_ref_size, lrate, l2reg)\n",
    "    epochLim = 10000\n",
    "    epochs_lf, history_lf = trainModel(myModel_lf, inTrain, outTrain, epochLim, None, None)"
   ]
  },
  {
   "cell_type": "markdown",
   "id": "17c43ce5",
   "metadata": {
    "pycharm": {
     "name": "#%% md\n"
    }
   },
   "source": [
    "#### High-Fidelity Model"
   ]
  },
  {
   "cell_type": "code",
   "execution_count": 15,
   "id": "07195778",
   "metadata": {},
   "outputs": [
    {
     "name": "stdout",
     "output_type": "stream",
     "text": [
      "Model: \"model_1\"\n",
      "_________________________________________________________________\n",
      "Layer (type)                 Output Shape              Param #   \n",
      "=================================================================\n",
      "input_2 (InputLayer)         [(None, 1)]               0         \n",
      "_________________________________________________________________\n",
      "dense_3 (Dense)              (None, 8)                 16        \n",
      "_________________________________________________________________\n",
      "dense_4 (Dense)              (None, 8)                 72        \n",
      "_________________________________________________________________\n",
      "dense_5 (Dense)              (None, 1)                 9         \n",
      "=================================================================\n",
      "Total params: 97\n",
      "Trainable params: 97\n",
      "Non-trainable params: 0\n",
      "_________________________________________________________________\n"
     ]
    },
    {
     "data": {
      "application/vnd.jupyter.widget-view+json": {
       "model_id": "92a92086b03d47df93aaefc50f750e14",
       "version_major": 2,
       "version_minor": 0
      },
      "text/plain": [
       "0epoch [00:00, ?epoch/s]"
      ]
     },
     "metadata": {},
     "output_type": "display_data"
    },
    {
     "data": {
      "application/vnd.jupyter.widget-view+json": {
       "model_id": "c0c4531e70c74844b38041b4fa8292d3",
       "version_major": 2,
       "version_minor": 0
      },
      "text/plain": [
       "0batch [00:00, ?batch/s]"
      ]
     },
     "metadata": {},
     "output_type": "display_data"
    }
   ],
   "source": [
    "if ml_train == True:\n",
    "    # Training High Fidelity Model\n",
    "    #scaler_output_yhf = preprocessing.MinMaxScaler()\n",
    "    scaler_output_yhf = preprocessing.StandardScaler()\n",
    "    outputs_yhf = scaler_output_yhf.fit_transform(yhf)\n",
    "    myModel_hf = None\n",
    "    inTrain = xhf\n",
    "    outTrain = outputs_yhf\n",
    "    inTrain, outTrain = shuffle(inTrain, outTrain)  # shuffle data to use validation_split in Keras\n",
    "    #featsize = int(len(inTrain[0,:]))\n",
    "    #outsize = int(len(outTrain[0,:]))\n",
    "    #layer_ref_size = int(len(inTrain))\n",
    "    #epochLim = 10\n",
    "\n",
    "    #kfold = KFold(n_splits=8, shuffle=True)\n",
    "    #acc_per_fold = []\n",
    "    #loss_per_fold = []\n",
    "\n",
    "    #myModel_hf = buildModel(featsize, outsize, layer_ref_size)\n",
    "    #count = 1\n",
    "    #for outer in range(0,100):\n",
    "    #    fold_no = 1\n",
    "    #    for train, test in kfold.split(inTrain, outTrain):\n",
    "    #        print('Training for fold %d' % fold_no)\n",
    "    #        epochs_hf, history_hf = trainModel(myModel_hf, inTrain[train], outTrain[train], epochLim, 4000, None)\n",
    "    #        scores = myModel_hf.evaluate(inTrain[test], outTrain[test], verbose=0)\n",
    "    #        print(f'Score for iter {count}: {myModel_hf.metrics_names[0]} of {scores[0]}; {myModel_hf.metrics_names[1]} of {scores[1]*100}%')\n",
    "    #        acc_per_fold.append(scores[1] * 100)\n",
    "    #        loss_per_fold.append(scores[0])\n",
    "    #        fold_no += 1\n",
    "    #        count += 1\n",
    "    #    outer += 1\n",
    "\n",
    "    featsize = int(len(inTrain[0,:]))\n",
    "    outsize = int(len(outTrain[0,:]))\n",
    "    layer_ref_size = len(inTrain) #/2\n",
    "    myModel_hf = buildModel(featsize, outsize, layer_ref_size, lrate, l2reg)\n",
    "    epochLim = 10000\n",
    "    epochs_hf, history_hf = trainModel(myModel_hf, inTrain, outTrain, epochLim, None, None)"
   ]
  },
  {
   "cell_type": "markdown",
   "id": "9f265f54",
   "metadata": {},
   "source": [
    "### Gaussian Process Models\n",
    "Using the scikit learn Gaussian Process capability, we are building GP models similar to the ML models. \n",
    "#### Low Fidelity \n",
    "$y_{lf} = GP_{lf}(x_{lf})$\n",
    "#### High Fidelity \n",
    "$y_{hf} = GP_{hf}(x_{hf})$\n",
    "#### Multi-Fidelity \n",
    "$y_{hf} = GP_{mf}(x_{hf},y_{lf}(x_{hf}))$"
   ]
  },
  {
   "cell_type": "code",
   "execution_count": 22,
   "id": "d2c33115",
   "metadata": {},
   "outputs": [
    {
     "data": {
      "text/plain": [
       "(8, 1)"
      ]
     },
     "execution_count": 22,
     "metadata": {},
     "output_type": "execute_result"
    }
   ],
   "source": [
    "xhf.shape"
   ]
  },
  {
   "cell_type": "code",
   "execution_count": 16,
   "id": "7a333880",
   "metadata": {},
   "outputs": [
    {
     "name": "stdout",
     "output_type": "stream",
     "text": [
      "Low Fidelity GP Model\n",
      "GP LF R^2 =  1.000\n",
      "High Fidelity GP Model\n",
      "GP HF R^2 =  0.946\n",
      "Multi-Fidelity GP Model\n"
     ]
    },
    {
     "name": "stderr",
     "output_type": "stream",
     "text": [
      "c:\\Users\\tyler\\AppData\\Local\\Programs\\Python\\Python39\\lib\\site-packages\\sklearn\\gaussian_process\\_gpr.py:506: ConvergenceWarning: lbfgs failed to converge (status=2):\n",
      "ABNORMAL_TERMINATION_IN_LNSRCH.\n",
      "\n",
      "Increase the number of iterations (max_iter) or scale the data as shown in:\n",
      "    https://scikit-learn.org/stable/modules/preprocessing.html\n",
      "  _check_optimize_result(\"lbfgs\", opt_res)\n"
     ]
    },
    {
     "name": "stdout",
     "output_type": "stream",
     "text": [
      "GP MF R^2 =  1.000\n",
      "Time for GP training = 1.35e+00 sec\n"
     ]
    },
    {
     "name": "stderr",
     "output_type": "stream",
     "text": [
      "c:\\Users\\tyler\\AppData\\Local\\Programs\\Python\\Python39\\lib\\site-packages\\sklearn\\gaussian_process\\kernels.py:411: ConvergenceWarning: The optimal value found for dimension 0 of parameter k1__constant_value is close to the specified upper bound 100000.0. Increasing the bound and calling fit again may find a better value.\n",
      "  warnings.warn(\"The optimal value found for \"\n"
     ]
    }
   ],
   "source": [
    "if gp_train == True:\n",
    "    start = timeit.default_timer()\n",
    "\n",
    "    #kernel = ConstantKernel(1.0) + Matern(length_scale=0.1, nu=3/2) #+ WhiteKernel(noise_level=1)\n",
    "    kernel = 1.0*Matern(length_scale=0.1, nu=1.5)\n",
    "    #kernel = RationalQuadratic()\n",
    "    #kernel = Matern(length_scale=0.1, nu=2.5)  #\n",
    "    #kernel = ConstantKernel(1.0, (1e-8, 1e2)) * RBF(0.1, (1e-8, 1e2))\n",
    "    #kernel = ConstantKernel(1.0, (1e-3, 1e3))*RBF(1.0, (1e-2, 1e2))\n",
    "    scaler_gp_ylf = preprocessing.StandardScaler()\n",
    "    scaler_gp_yhf = preprocessing.StandardScaler()\n",
    "\n",
    "    print(\"Low Fidelity GP Model\")\n",
    "    gp_lf = None\n",
    "    gp_lf = gaussian_process.GaussianProcessRegressor(kernel=kernel, n_restarts_optimizer=20)\n",
    "    gp_lf.fit(xlf, scaler_gp_ylf.fit_transform(ylf))\n",
    "    ylf_gp, ylf_gp_std = gp_lf.predict(xi, return_std=True)\n",
    "    ylf_gp = scaler_gp_ylf.inverse_transform(ylf_gp)\n",
    "    ylf_gp_std = ylf_gp_std.reshape(-1,1)\n",
    "    ylf_gp_std = scaler_gp_ylf.inverse_transform(ylf_gp_std)\n",
    "    print(\"GP LF R^2 = %6.3f\" % r2_score(ylf_gp,yexactlf))\n",
    "\n",
    "    print(\"High Fidelity GP Model\")\n",
    "    gp_hf = None\n",
    "    gp_hf = gaussian_process.GaussianProcessRegressor(kernel=kernel, n_restarts_optimizer=20)\n",
    "    gp_hf.fit(xhf, scaler_gp_yhf.fit_transform(yhf))\n",
    "    yhf_gp, yhf_gp_std = gp_hf.predict(xi, return_std=True)\n",
    "    yhf_gp = scaler_gp_yhf.inverse_transform(yhf_gp)\n",
    "    yhf_gp_std = yhf_gp_std.reshape(-1,1)\n",
    "    yhf_gp_std = scaler_gp_yhf.inverse_transform(yhf_gp_std)\n",
    "    print(\"GP HF R^2 = %6.3f\" % r2_score(yhf_gp,yexacthf))\n",
    "\n",
    "    print(\"Multi-Fidelity GP Model\")\n",
    "    gp_mf = None\n",
    "    gp_mf = gaussian_process.GaussianProcessRegressor(kernel=kernel, n_restarts_optimizer=20)\n",
    "    in_mf = xhf\n",
    "    ylf_in = gp_lf.predict(in_mf)\n",
    "    in_mf = np.concatenate((in_mf,ylf_in), axis=1)\n",
    "    gp_mf.fit(in_mf, scaler_gp_yhf.fit_transform(yhf))\n",
    "    ylf_in = gp_lf.predict(xi)\n",
    "    in_mf = np.concatenate((xi,ylf_in), axis=1)\n",
    "    ymf_gp, ymf_gp_std = gp_mf.predict(in_mf, return_std=True)\n",
    "    ymf_gp = scaler_gp_yhf.inverse_transform(ymf_gp)\n",
    "    ymf_gp_std = ymf_gp_std.reshape(-1,1)\n",
    "    ymf_gp_std = scaler_gp_yhf.inverse_transform(ymf_gp_std)\n",
    "    print(\"GP MF R^2 = %6.3f\" % r2_score(ymf_gp,yexacthf))\n",
    "    stop = timeit.default_timer()\n",
    "    print('Time for GP training = %6.2e sec' % (stop-start))"
   ]
  },
  {
   "cell_type": "code",
   "execution_count": 20,
   "id": "28688218",
   "metadata": {},
   "outputs": [
    {
     "data": {
      "text/plain": [
       "[<matplotlib.lines.Line2D at 0x1397d28ac40>]"
      ]
     },
     "execution_count": 20,
     "metadata": {},
     "output_type": "execute_result"
    },
    {
     "data": {
      "image/png": "[encoded data removed]",
      "text/plain": [
       "<Figure size 432x288 with 1 Axes>"
      ]
     },
     "metadata": {},
     "output_type": "display_data"
    }
   ],
   "source": [
    "plt.rc('text', usetex=False)\n",
    "plt.plot(xi,yhf_gp, label=\"High Fidelity Model Prediction\",linestyle=\"-.\", color=\"green\")\n",
    "plt.plot(xi,yexacthf)"
   ]
  },
  {
   "cell_type": "markdown",
   "id": "d5c6ad9d",
   "metadata": {},
   "source": [
    "#### 2-Step Multi-Fidelity ML Model"
   ]
  },
  {
   "cell_type": "code",
   "execution_count": 73,
   "id": "b851a685",
   "metadata": {},
   "outputs": [
    {
     "name": "stdout",
     "output_type": "stream",
     "text": [
      "Model: \"model_22\"\n",
      "_________________________________________________________________\n",
      " Layer (type)                Output Shape              Param #   \n",
      "=================================================================\n",
      " input_23 (InputLayer)       [(None, 2)]               0         \n",
      "                                                                 \n",
      " dense_54 (Dense)            (None, 15)                45        \n",
      "                                                                 \n",
      " dense_55 (Dense)            (None, 1)                 16        \n",
      "                                                                 \n",
      "=================================================================\n",
      "Total params: 61\n",
      "Trainable params: 61\n",
      "Non-trainable params: 0\n",
      "_________________________________________________________________\n"
     ]
    },
    {
     "data": {
      "application/vnd.jupyter.widget-view+json": {
       "model_id": "59061b94ebac49bfa101add27d8144c0",
       "version_major": 2,
       "version_minor": 0
      },
      "text/plain": [
       "0epoch [00:00, ?epoch/s]"
      ]
     },
     "metadata": {},
     "output_type": "display_data"
    },
    {
     "data": {
      "application/vnd.jupyter.widget-view+json": {
       "model_id": "",
       "version_major": 2,
       "version_minor": 0
      },
      "text/plain": [
       "0batch [00:00, ?batch/s]"
      ]
     },
     "metadata": {},
     "output_type": "display_data"
    },
    {
     "name": "stdout",
     "output_type": "stream",
     "text": [
      "Epoch 08409: early stopping\n"
     ]
    }
   ],
   "source": [
    "if ml_train == True:\n",
    "    inTrain = xhf\n",
    "    yLF_in = myModel_lf.predict(inTrain)\n",
    "    inTrainML = np.concatenate((inTrain,yLF_in), axis=1)\n",
    "    layer_ref_size = int(len(inTrainML))\n",
    "    outTrain = outputs_yhf\n",
    "    inTrainML, outTrain = shuffle(inTrainML, outTrain)\n",
    "    featsize = int(len(inTrainML[0,:]))\n",
    "    outsize = int(len(outTrain[0,:]))\n",
    "    layer_ref_size = len(inTrainML)\n",
    "    myModel_mf2 = None\n",
    "    myModel_mf2 = buildModelMF(featsize, outsize, layer_ref_size, lrate, l2reg)\n",
    "    epochLim = 10000\n",
    "    epochs_mf2, history_mf2 = trainModel(myModel_mf2, inTrainML, outTrain, epochLim, None, None)\n",
    "    #kfold = KFold(n_splits=8, shuffle=True)\n",
    "    #acc_per_fold = []\n",
    "    #loss_per_fold = []\n",
    "    #fold_no = 1\n",
    "    #count = 1\n",
    "    #for outer in range(0,1000):\n",
    "    #    acc_per_fold = 0.0\n",
    "    #    loss_per_fold = 0.0\n",
    "    #    for train, test in kfold.split(inTrainML, outTrain):\n",
    "    #        #        print('Training for fold %d' % fold_no)\n",
    "    #        epochs_mf2, history_mf2 = trainModel(myModel_mf2, inTrainML[train], outTrain[train], epochLim, 4000, None)\n",
    "    #        scores = myModel_mf2.evaluate(inTrainML[test], outTrain[test], verbose=0)\n",
    "    #        acc_per_fold += scores[1] * 100\n",
    "    #        loss_per_fold += scores[0]\n",
    "    #        fold_no = fold_no + 1\n",
    "    #        count += 1\n",
    "    #    acc_per_fold /= 8\n",
    "    #    loss_per_fold /= 8\n",
    "    #    print(f'Score for outer {outer}: {myModel_mf2.metrics_names[0]} of {scores[0]}; {myModel_mf2.metrics_names[1]} of {scores[1]*100}%')"
   ]
  },
  {
   "cell_type": "markdown",
   "id": "2edcd594",
   "metadata": {
    "pycharm": {
     "name": "#%% md\n"
    }
   },
   "source": [
    "#### 3-Step Multi-Fidelity ML Model\n",
    "##### Linear Model"
   ]
  },
  {
   "cell_type": "code",
   "execution_count": 74,
   "id": "8aea6599",
   "metadata": {},
   "outputs": [
    {
     "name": "stdout",
     "output_type": "stream",
     "text": [
      "Model: \"model_23\"\n",
      "_________________________________________________________________\n",
      " Layer (type)                Output Shape              Param #   \n",
      "=================================================================\n",
      " input_24 (InputLayer)       [(None, 2)]               0         \n",
      "                                                                 \n",
      " dense_56 (Dense)            (None, 15)                45        \n",
      "                                                                 \n",
      " dense_57 (Dense)            (None, 1)                 16        \n",
      "                                                                 \n",
      "=================================================================\n",
      "Total params: 61\n",
      "Trainable params: 61\n",
      "Non-trainable params: 0\n",
      "_________________________________________________________________\n"
     ]
    },
    {
     "data": {
      "application/vnd.jupyter.widget-view+json": {
       "model_id": "5662b615785c4812b51eaf1a32d7b306",
       "version_major": 2,
       "version_minor": 0
      },
      "text/plain": [
       "0epoch [00:00, ?epoch/s]"
      ]
     },
     "metadata": {},
     "output_type": "display_data"
    },
    {
     "data": {
      "application/vnd.jupyter.widget-view+json": {
       "model_id": "",
       "version_major": 2,
       "version_minor": 0
      },
      "text/plain": [
       "0batch [00:00, ?batch/s]"
      ]
     },
     "metadata": {},
     "output_type": "display_data"
    }
   ],
   "source": [
    "if ml_train == True:\n",
    "    # 3-Step ML Model\n",
    "    inTrain = xhf\n",
    "    yLF_in = myModel_lf.predict(inTrain)\n",
    "    inTrainML = np.concatenate((xhf,yLF_in), axis=1)\n",
    "    outTrain = outputs_yhf\n",
    "    inTrainML, outTrain = shuffle(inTrainML, outTrain)  # shuffle data to use validation_split in Keras\n",
    "    #l2reg = 2.e-4\n",
    "    #lrate = 1.e-2\n",
    "    featsize = int(len(inTrainML[0,:]))\n",
    "    outsize = int(len(outTrain[0,:]))\n",
    "    layer_ref_size = len(inTrain)\n",
    "    myModel_mf3lin = None\n",
    "    myModel_mf3lin = buildModelMFlinear(featsize, outsize, layer_ref_size, lrate, l2reg)\n",
    "    epochLim = 10000\n",
    "    epochs_mf3lin, history_mf3lin = trainModel(myModel_mf3lin, inTrainML, outTrain, epochLim, 4000, None)"
   ]
  },
  {
   "cell_type": "markdown",
   "id": "2b466607",
   "metadata": {
    "pycharm": {
     "name": "#%% md\n"
    }
   },
   "source": [
    "##### Non-Linear Model"
   ]
  },
  {
   "cell_type": "code",
   "execution_count": 75,
   "id": "1b095065",
   "metadata": {},
   "outputs": [
    {
     "name": "stdout",
     "output_type": "stream",
     "text": [
      "Model: \"model_24\"\n",
      "_________________________________________________________________\n",
      " Layer (type)                Output Shape              Param #   \n",
      "=================================================================\n",
      " input_25 (InputLayer)       [(None, 3)]               0         \n",
      "                                                                 \n",
      " dense_58 (Dense)            (None, 15)                60        \n",
      "                                                                 \n",
      " dense_59 (Dense)            (None, 1)                 16        \n",
      "                                                                 \n",
      "=================================================================\n",
      "Total params: 76\n",
      "Trainable params: 76\n",
      "Non-trainable params: 0\n",
      "_________________________________________________________________\n"
     ]
    },
    {
     "data": {
      "application/vnd.jupyter.widget-view+json": {
       "model_id": "65ded12dd6564749a2ef204161f17743",
       "version_major": 2,
       "version_minor": 0
      },
      "text/plain": [
       "0epoch [00:00, ?epoch/s]"
      ]
     },
     "metadata": {},
     "output_type": "display_data"
    },
    {
     "data": {
      "application/vnd.jupyter.widget-view+json": {
       "model_id": "",
       "version_major": 2,
       "version_minor": 0
      },
      "text/plain": [
       "0batch [00:00, ?batch/s]"
      ]
     },
     "metadata": {},
     "output_type": "display_data"
    },
    {
     "name": "stdout",
     "output_type": "stream",
     "text": [
      "Epoch 06751: early stopping\n"
     ]
    }
   ],
   "source": [
    "if ml_train == True:\n",
    "    inTrainML = np.concatenate((xhf,yLF_in), axis=1)\n",
    "    yMF3lin_nn = myModel_mf3lin.predict(inTrainML)\n",
    "    inTrainML = np.concatenate((inTrainML,yMF3lin_nn), axis=1)\n",
    "    layer_ref_size = len(inTrain)\n",
    "    outTrain = outputs_yhf\n",
    "    #inTrainML, outTrain = shuffle(inTrainML, outTrain)  # shuffle data to use validation_split in Keras\n",
    "    featsize = int(len(inTrainML[0,:]))\n",
    "    outsize = int(len(outTrain[0,:]))\n",
    "    myModel_mf3 = None\n",
    "    myModel_mf3 = buildModelMF(featsize, outsize, layer_ref_size, lrate, l2reg)\n",
    "    epochLim = 10000\n",
    "    epochs_mf3, history_mf3 = trainModel(myModel_mf3, inTrainML, outTrain, epochLim, None, None)"
   ]
  },
  {
   "cell_type": "markdown",
   "id": "90930f59",
   "metadata": {
    "pycharm": {
     "name": "#%% md\n"
    }
   },
   "source": [
    "### Generating Predictions and Applying Inverse Scaling"
   ]
  },
  {
   "cell_type": "code",
   "execution_count": 76,
   "id": "e824d0bb",
   "metadata": {
    "pycharm": {
     "name": "#%%\n"
    }
   },
   "outputs": [],
   "source": [
    "if ml_train == True:\n",
    "    # Predictions\n",
    "    yLF_nn = myModel_lf.predict(xi)\n",
    "    yHF_nn = myModel_hf.predict(xi)\n",
    "    input_MF2 = np.concatenate((xi,yLF_nn), axis=1)\n",
    "    yMF2_nn = myModel_mf2.predict(input_MF2)\n",
    "    yMF3lin_nn = myModel_mf3lin.predict(input_MF2)\n",
    "    input_MF3 = np.concatenate((input_MF2, yMF3lin_nn), axis=1)\n",
    "    yMF3_nn = myModel_mf3(input_MF3)\n",
    "\n",
    "    # Inverse-scaling the Data\n",
    "    yLF_nn = scaler_output_ylf.inverse_transform(yLF_nn)\n",
    "    yHF_nn = scaler_output_yhf.inverse_transform(yHF_nn)\n",
    "    yMF2_nn = scaler_output_yhf.inverse_transform(yMF2_nn)\n",
    "    yMF3_nn = scaler_output_yhf.inverse_transform(yMF3_nn)\n",
    "    yMF3lin_nn = scaler_output_yhf.inverse_transform(yMF3lin_nn)"
   ]
  },
  {
   "cell_type": "markdown",
   "id": "610aa41e",
   "metadata": {
    "pycharm": {
     "name": "#%% md\n"
    }
   },
   "source": [
    "### Plotting Results"
   ]
  },
  {
   "cell_type": "code",
   "execution_count": 17,
   "id": "bfa54f5e",
   "metadata": {
    "pycharm": {
     "name": "#%%\n"
    }
   },
   "outputs": [
    {
     "ename": "RuntimeError",
     "evalue": "Failed to process string with tex because latex could not be found",
     "output_type": "error",
     "traceback": [
      "\u001b[1;31m---------------------------------------------------------------------------\u001b[0m",
      "\u001b[1;31mFileNotFoundError\u001b[0m                         Traceback (most recent call last)",
      "File \u001b[1;32mc:\\Users\\tyler\\AppData\\Local\\Programs\\Python\\Python39\\lib\\site-packages\\matplotlib\\texmanager.py:252\u001b[0m, in \u001b[0;36mTexManager._run_checked_subprocess\u001b[1;34m(self, command, tex, cwd)\u001b[0m\n\u001b[0;32m    251\u001b[0m \u001b[39mtry\u001b[39;00m:\n\u001b[1;32m--> 252\u001b[0m     report \u001b[39m=\u001b[39m subprocess\u001b[39m.\u001b[39;49mcheck_output(\n\u001b[0;32m    253\u001b[0m         command, cwd\u001b[39m=\u001b[39;49mcwd \u001b[39mif\u001b[39;49;00m cwd \u001b[39mis\u001b[39;49;00m \u001b[39mnot\u001b[39;49;00m \u001b[39mNone\u001b[39;49;00m \u001b[39melse\u001b[39;49;00m \u001b[39mself\u001b[39;49m\u001b[39m.\u001b[39;49mtexcache,\n\u001b[0;32m    254\u001b[0m         stderr\u001b[39m=\u001b[39;49msubprocess\u001b[39m.\u001b[39;49mSTDOUT)\n\u001b[0;32m    255\u001b[0m \u001b[39mexcept\u001b[39;00m \u001b[39mFileNotFoundError\u001b[39;00m \u001b[39mas\u001b[39;00m exc:\n",
      "File \u001b[1;32mc:\\Users\\tyler\\AppData\\Local\\Programs\\Python\\Python39\\lib\\subprocess.py:424\u001b[0m, in \u001b[0;36mcheck_output\u001b[1;34m(timeout, *popenargs, **kwargs)\u001b[0m\n\u001b[0;32m    422\u001b[0m     kwargs[\u001b[39m'\u001b[39m\u001b[39minput\u001b[39m\u001b[39m'\u001b[39m] \u001b[39m=\u001b[39m empty\n\u001b[1;32m--> 424\u001b[0m \u001b[39mreturn\u001b[39;00m run(\u001b[39m*\u001b[39mpopenargs, stdout\u001b[39m=\u001b[39mPIPE, timeout\u001b[39m=\u001b[39mtimeout, check\u001b[39m=\u001b[39m\u001b[39mTrue\u001b[39;00m,\n\u001b[0;32m    425\u001b[0m            \u001b[39m*\u001b[39m\u001b[39m*\u001b[39mkwargs)\u001b[39m.\u001b[39mstdout\n",
      "File \u001b[1;32mc:\\Users\\tyler\\AppData\\Local\\Programs\\Python\\Python39\\lib\\subprocess.py:505\u001b[0m, in \u001b[0;36mrun\u001b[1;34m(input, capture_output, timeout, check, *popenargs, **kwargs)\u001b[0m\n\u001b[0;32m    503\u001b[0m     kwargs[\u001b[39m'\u001b[39m\u001b[39mstderr\u001b[39m\u001b[39m'\u001b[39m] \u001b[39m=\u001b[39m PIPE\n\u001b[1;32m--> 505\u001b[0m \u001b[39mwith\u001b[39;00m Popen(\u001b[39m*\u001b[39mpopenargs, \u001b[39m*\u001b[39m\u001b[39m*\u001b[39mkwargs) \u001b[39mas\u001b[39;00m process:\n\u001b[0;32m    506\u001b[0m     \u001b[39mtry\u001b[39;00m:\n",
      "File \u001b[1;32mc:\\Users\\tyler\\AppData\\Local\\Programs\\Python\\Python39\\lib\\subprocess.py:951\u001b[0m, in \u001b[0;36mPopen.__init__\u001b[1;34m(self, args, bufsize, executable, stdin, stdout, stderr, preexec_fn, close_fds, shell, cwd, env, universal_newlines, startupinfo, creationflags, restore_signals, start_new_session, pass_fds, user, group, extra_groups, encoding, errors, text, umask)\u001b[0m\n\u001b[0;32m    948\u001b[0m             \u001b[39mself\u001b[39m\u001b[39m.\u001b[39mstderr \u001b[39m=\u001b[39m io\u001b[39m.\u001b[39mTextIOWrapper(\u001b[39mself\u001b[39m\u001b[39m.\u001b[39mstderr,\n\u001b[0;32m    949\u001b[0m                     encoding\u001b[39m=\u001b[39mencoding, errors\u001b[39m=\u001b[39merrors)\n\u001b[1;32m--> 951\u001b[0m     \u001b[39mself\u001b[39;49m\u001b[39m.\u001b[39;49m_execute_child(args, executable, preexec_fn, close_fds,\n\u001b[0;32m    952\u001b[0m                         pass_fds, cwd, env,\n\u001b[0;32m    953\u001b[0m                         startupinfo, creationflags, shell,\n\u001b[0;32m    954\u001b[0m                         p2cread, p2cwrite,\n\u001b[0;32m    955\u001b[0m                         c2pread, c2pwrite,\n\u001b[0;32m    956\u001b[0m                         errread, errwrite,\n\u001b[0;32m    957\u001b[0m                         restore_signals,\n\u001b[0;32m    958\u001b[0m                         gid, gids, uid, umask,\n\u001b[0;32m    959\u001b[0m                         start_new_session)\n\u001b[0;32m    960\u001b[0m \u001b[39mexcept\u001b[39;00m:\n\u001b[0;32m    961\u001b[0m     \u001b[39m# Cleanup if the child failed starting.\u001b[39;00m\n",
      "File \u001b[1;32mc:\\Users\\tyler\\AppData\\Local\\Programs\\Python\\Python39\\lib\\subprocess.py:1420\u001b[0m, in \u001b[0;36mPopen._execute_child\u001b[1;34m(self, args, executable, preexec_fn, close_fds, pass_fds, cwd, env, startupinfo, creationflags, shell, p2cread, p2cwrite, c2pread, c2pwrite, errread, errwrite, unused_restore_signals, unused_gid, unused_gids, unused_uid, unused_umask, unused_start_new_session)\u001b[0m\n\u001b[0;32m   1419\u001b[0m \u001b[39mtry\u001b[39;00m:\n\u001b[1;32m-> 1420\u001b[0m     hp, ht, pid, tid \u001b[39m=\u001b[39m _winapi\u001b[39m.\u001b[39;49mCreateProcess(executable, args,\n\u001b[0;32m   1421\u001b[0m                              \u001b[39m# no special security\u001b[39;49;00m\n\u001b[0;32m   1422\u001b[0m                              \u001b[39mNone\u001b[39;49;00m, \u001b[39mNone\u001b[39;49;00m,\n\u001b[0;32m   1423\u001b[0m                              \u001b[39mint\u001b[39;49m(\u001b[39mnot\u001b[39;49;00m close_fds),\n\u001b[0;32m   1424\u001b[0m                              creationflags,\n\u001b[0;32m   1425\u001b[0m                              env,\n\u001b[0;32m   1426\u001b[0m                              cwd,\n\u001b[0;32m   1427\u001b[0m                              startupinfo)\n\u001b[0;32m   1428\u001b[0m \u001b[39mfinally\u001b[39;00m:\n\u001b[0;32m   1429\u001b[0m     \u001b[39m# Child is launched. Close the parent's copy of those pipe\u001b[39;00m\n\u001b[0;32m   1430\u001b[0m     \u001b[39m# handles that only the child should have open.  You need\u001b[39;00m\n\u001b[1;32m   (...)\u001b[0m\n\u001b[0;32m   1433\u001b[0m     \u001b[39m# pipe will not close when the child process exits and the\u001b[39;00m\n\u001b[0;32m   1434\u001b[0m     \u001b[39m# ReadFile will hang.\u001b[39;00m\n",
      "\u001b[1;31mFileNotFoundError\u001b[0m: [WinError 2] The system cannot find the file specified",
      "\nThe above exception was the direct cause of the following exception:\n",
      "\u001b[1;31mRuntimeError\u001b[0m                              Traceback (most recent call last)",
      "\u001b[1;32mc:\\Users\\tyler\\AppData\\Local\\Microsoft\\Windows\\INetCache\\Content.Outlook\\3ML8ULMN\\multi-fidelity.ipynb Cell 36\u001b[0m in \u001b[0;36m<cell line: 7>\u001b[1;34m()\u001b[0m\n\u001b[0;32m     <a href='vscode-notebook-cell:/c%3A/Users/tyler/AppData/Local/Microsoft/Windows/INetCache/Content.Outlook/3ML8ULMN/multi-fidelity.ipynb#X50sZmlsZQ%3D%3D?line=19'>20</a>\u001b[0m plt\u001b[39m.\u001b[39mxlabel(\u001b[39mr\u001b[39m\u001b[39m'\u001b[39m\u001b[39m$x$\u001b[39m\u001b[39m'\u001b[39m, fontsize\u001b[39m=\u001b[39m\u001b[39m11\u001b[39m)\n\u001b[0;32m     <a href='vscode-notebook-cell:/c%3A/Users/tyler/AppData/Local/Microsoft/Windows/INetCache/Content.Outlook/3ML8ULMN/multi-fidelity.ipynb#X50sZmlsZQ%3D%3D?line=20'>21</a>\u001b[0m plt\u001b[39m.\u001b[39mylabel(\u001b[39mr\u001b[39m\u001b[39m'\u001b[39m\u001b[39m$y$\u001b[39m\u001b[39m'\u001b[39m, fontsize\u001b[39m=\u001b[39m\u001b[39m11\u001b[39m)\n\u001b[1;32m---> <a href='vscode-notebook-cell:/c%3A/Users/tyler/AppData/Local/Microsoft/Windows/INetCache/Content.Outlook/3ML8ULMN/multi-fidelity.ipynb#X50sZmlsZQ%3D%3D?line=21'>22</a>\u001b[0m plt\u001b[39m.\u001b[39;49msavefig(\u001b[39m'\u001b[39;49m\u001b[39m./bench-\u001b[39;49m\u001b[39m%d\u001b[39;49;00m\u001b[39m-data.png\u001b[39;49m\u001b[39m'\u001b[39;49m \u001b[39m%\u001b[39;49m bench)\n\u001b[0;32m     <a href='vscode-notebook-cell:/c%3A/Users/tyler/AppData/Local/Microsoft/Windows/INetCache/Content.Outlook/3ML8ULMN/multi-fidelity.ipynb#X50sZmlsZQ%3D%3D?line=22'>23</a>\u001b[0m plt\u001b[39m.\u001b[39msavefig(\u001b[39m'\u001b[39m\u001b[39m./bench-\u001b[39m\u001b[39m%d\u001b[39;00m\u001b[39m-data.pdf\u001b[39m\u001b[39m'\u001b[39m \u001b[39m%\u001b[39m bench)\n\u001b[0;32m     <a href='vscode-notebook-cell:/c%3A/Users/tyler/AppData/Local/Microsoft/Windows/INetCache/Content.Outlook/3ML8ULMN/multi-fidelity.ipynb#X50sZmlsZQ%3D%3D?line=23'>24</a>\u001b[0m plt\u001b[39m.\u001b[39mshow()\n",
      "File \u001b[1;32mc:\\Users\\tyler\\AppData\\Local\\Programs\\Python\\Python39\\lib\\site-packages\\matplotlib\\pyplot.py:966\u001b[0m, in \u001b[0;36msavefig\u001b[1;34m(*args, **kwargs)\u001b[0m\n\u001b[0;32m    963\u001b[0m \u001b[39m@_copy_docstring_and_deprecators\u001b[39m(Figure\u001b[39m.\u001b[39msavefig)\n\u001b[0;32m    964\u001b[0m \u001b[39mdef\u001b[39;00m \u001b[39msavefig\u001b[39m(\u001b[39m*\u001b[39margs, \u001b[39m*\u001b[39m\u001b[39m*\u001b[39mkwargs):\n\u001b[0;32m    965\u001b[0m     fig \u001b[39m=\u001b[39m gcf()\n\u001b[1;32m--> 966\u001b[0m     res \u001b[39m=\u001b[39m fig\u001b[39m.\u001b[39msavefig(\u001b[39m*\u001b[39margs, \u001b[39m*\u001b[39m\u001b[39m*\u001b[39mkwargs)\n\u001b[0;32m    967\u001b[0m     fig\u001b[39m.\u001b[39mcanvas\u001b[39m.\u001b[39mdraw_idle()   \u001b[39m# need this if 'transparent=True' to reset colors\u001b[39;00m\n\u001b[0;32m    968\u001b[0m     \u001b[39mreturn\u001b[39;00m res\n",
      "File \u001b[1;32mc:\\Users\\tyler\\AppData\\Local\\Programs\\Python\\Python39\\lib\\site-packages\\matplotlib\\figure.py:3015\u001b[0m, in \u001b[0;36mFigure.savefig\u001b[1;34m(self, fname, transparent, **kwargs)\u001b[0m\n\u001b[0;32m   3012\u001b[0m         patch\u001b[39m.\u001b[39mset_facecolor(\u001b[39m'\u001b[39m\u001b[39mnone\u001b[39m\u001b[39m'\u001b[39m)\n\u001b[0;32m   3013\u001b[0m         patch\u001b[39m.\u001b[39mset_edgecolor(\u001b[39m'\u001b[39m\u001b[39mnone\u001b[39m\u001b[39m'\u001b[39m)\n\u001b[1;32m-> 3015\u001b[0m \u001b[39mself\u001b[39m\u001b[39m.\u001b[39mcanvas\u001b[39m.\u001b[39mprint_figure(fname, \u001b[39m*\u001b[39m\u001b[39m*\u001b[39mkwargs)\n\u001b[0;32m   3017\u001b[0m \u001b[39mif\u001b[39;00m transparent:\n\u001b[0;32m   3018\u001b[0m     \u001b[39mfor\u001b[39;00m ax, cc \u001b[39min\u001b[39;00m \u001b[39mzip\u001b[39m(\u001b[39mself\u001b[39m\u001b[39m.\u001b[39maxes, original_axes_colors):\n",
      "File \u001b[1;32mc:\\Users\\tyler\\AppData\\Local\\Programs\\Python\\Python39\\lib\\site-packages\\matplotlib\\backend_bases.py:2255\u001b[0m, in \u001b[0;36mFigureCanvasBase.print_figure\u001b[1;34m(self, filename, dpi, facecolor, edgecolor, orientation, format, bbox_inches, pad_inches, bbox_extra_artists, backend, **kwargs)\u001b[0m\n\u001b[0;32m   2251\u001b[0m \u001b[39mtry\u001b[39;00m:\n\u001b[0;32m   2252\u001b[0m     \u001b[39m# _get_renderer may change the figure dpi (as vector formats\u001b[39;00m\n\u001b[0;32m   2253\u001b[0m     \u001b[39m# force the figure dpi to 72), so we need to set it again here.\u001b[39;00m\n\u001b[0;32m   2254\u001b[0m     \u001b[39mwith\u001b[39;00m cbook\u001b[39m.\u001b[39m_setattr_cm(\u001b[39mself\u001b[39m\u001b[39m.\u001b[39mfigure, dpi\u001b[39m=\u001b[39mdpi):\n\u001b[1;32m-> 2255\u001b[0m         result \u001b[39m=\u001b[39m print_method(\n\u001b[0;32m   2256\u001b[0m             filename,\n\u001b[0;32m   2257\u001b[0m             facecolor\u001b[39m=\u001b[39mfacecolor,\n\u001b[0;32m   2258\u001b[0m             edgecolor\u001b[39m=\u001b[39medgecolor,\n\u001b[0;32m   2259\u001b[0m             orientation\u001b[39m=\u001b[39morientation,\n\u001b[0;32m   2260\u001b[0m             bbox_inches_restore\u001b[39m=\u001b[39m_bbox_inches_restore,\n\u001b[0;32m   2261\u001b[0m             \u001b[39m*\u001b[39m\u001b[39m*\u001b[39mkwargs)\n\u001b[0;32m   2262\u001b[0m \u001b[39mfinally\u001b[39;00m:\n\u001b[0;32m   2263\u001b[0m     \u001b[39mif\u001b[39;00m bbox_inches \u001b[39mand\u001b[39;00m restore_bbox:\n",
      "File \u001b[1;32mc:\\Users\\tyler\\AppData\\Local\\Programs\\Python\\Python39\\lib\\site-packages\\matplotlib\\backend_bases.py:1669\u001b[0m, in \u001b[0;36m_check_savefig_extra_args.<locals>.wrapper\u001b[1;34m(*args, **kwargs)\u001b[0m\n\u001b[0;32m   1661\u001b[0m     _api\u001b[39m.\u001b[39mwarn_deprecated(\n\u001b[0;32m   1662\u001b[0m         \u001b[39m'\u001b[39m\u001b[39m3.3\u001b[39m\u001b[39m'\u001b[39m, name\u001b[39m=\u001b[39mname,\n\u001b[0;32m   1663\u001b[0m         message\u001b[39m=\u001b[39m\u001b[39m'\u001b[39m\u001b[39m%(name)s\u001b[39;00m\u001b[39m() got unexpected keyword argument \u001b[39m\u001b[39m\"\u001b[39m\u001b[39m'\u001b[39m\n\u001b[0;32m   1664\u001b[0m                 \u001b[39m+\u001b[39m arg \u001b[39m+\u001b[39m \u001b[39m'\u001b[39m\u001b[39m\"\u001b[39m\u001b[39m which is no longer supported as of \u001b[39m\u001b[39m'\u001b[39m\n\u001b[0;32m   1665\u001b[0m                 \u001b[39m'\u001b[39m\u001b[39m%(since)s\u001b[39;00m\u001b[39m and will become an error \u001b[39m\u001b[39m'\u001b[39m\n\u001b[0;32m   1666\u001b[0m                 \u001b[39m'\u001b[39m\u001b[39m%(removal)s\u001b[39;00m\u001b[39m'\u001b[39m)\n\u001b[0;32m   1667\u001b[0m     kwargs\u001b[39m.\u001b[39mpop(arg)\n\u001b[1;32m-> 1669\u001b[0m \u001b[39mreturn\u001b[39;00m func(\u001b[39m*\u001b[39margs, \u001b[39m*\u001b[39m\u001b[39m*\u001b[39mkwargs)\n",
      "File \u001b[1;32mc:\\Users\\tyler\\AppData\\Local\\Programs\\Python\\Python39\\lib\\site-packages\\matplotlib\\backends\\backend_agg.py:508\u001b[0m, in \u001b[0;36mFigureCanvasAgg.print_png\u001b[1;34m(self, filename_or_obj, metadata, pil_kwargs, *args)\u001b[0m\n\u001b[0;32m    459\u001b[0m \u001b[39m@_check_savefig_extra_args\u001b[39m\n\u001b[0;32m    460\u001b[0m \u001b[39mdef\u001b[39;00m \u001b[39mprint_png\u001b[39m(\u001b[39mself\u001b[39m, filename_or_obj, \u001b[39m*\u001b[39margs,\n\u001b[0;32m    461\u001b[0m               metadata\u001b[39m=\u001b[39m\u001b[39mNone\u001b[39;00m, pil_kwargs\u001b[39m=\u001b[39m\u001b[39mNone\u001b[39;00m):\n\u001b[0;32m    462\u001b[0m     \u001b[39m\"\"\"\u001b[39;00m\n\u001b[0;32m    463\u001b[0m \u001b[39m    Write the figure to a PNG file.\u001b[39;00m\n\u001b[0;32m    464\u001b[0m \n\u001b[1;32m   (...)\u001b[0m\n\u001b[0;32m    506\u001b[0m \u001b[39m        *metadata*, including the default 'Software' key.\u001b[39;00m\n\u001b[0;32m    507\u001b[0m \u001b[39m    \"\"\"\u001b[39;00m\n\u001b[1;32m--> 508\u001b[0m     FigureCanvasAgg\u001b[39m.\u001b[39;49mdraw(\u001b[39mself\u001b[39;49m)\n\u001b[0;32m    509\u001b[0m     mpl\u001b[39m.\u001b[39mimage\u001b[39m.\u001b[39mimsave(\n\u001b[0;32m    510\u001b[0m         filename_or_obj, \u001b[39mself\u001b[39m\u001b[39m.\u001b[39mbuffer_rgba(), \u001b[39mformat\u001b[39m\u001b[39m=\u001b[39m\u001b[39m\"\u001b[39m\u001b[39mpng\u001b[39m\u001b[39m\"\u001b[39m, origin\u001b[39m=\u001b[39m\u001b[39m\"\u001b[39m\u001b[39mupper\u001b[39m\u001b[39m\"\u001b[39m,\n\u001b[0;32m    511\u001b[0m         dpi\u001b[39m=\u001b[39m\u001b[39mself\u001b[39m\u001b[39m.\u001b[39mfigure\u001b[39m.\u001b[39mdpi, metadata\u001b[39m=\u001b[39mmetadata, pil_kwargs\u001b[39m=\u001b[39mpil_kwargs)\n",
      "File \u001b[1;32mc:\\Users\\tyler\\AppData\\Local\\Programs\\Python\\Python39\\lib\\site-packages\\matplotlib\\backends\\backend_agg.py:406\u001b[0m, in \u001b[0;36mFigureCanvasAgg.draw\u001b[1;34m(self)\u001b[0m\n\u001b[0;32m    402\u001b[0m \u001b[39m# Acquire a lock on the shared font cache.\u001b[39;00m\n\u001b[0;32m    403\u001b[0m \u001b[39mwith\u001b[39;00m RendererAgg\u001b[39m.\u001b[39mlock, \\\n\u001b[0;32m    404\u001b[0m      (\u001b[39mself\u001b[39m\u001b[39m.\u001b[39mtoolbar\u001b[39m.\u001b[39m_wait_cursor_for_draw_cm() \u001b[39mif\u001b[39;00m \u001b[39mself\u001b[39m\u001b[39m.\u001b[39mtoolbar\n\u001b[0;32m    405\u001b[0m       \u001b[39melse\u001b[39;00m nullcontext()):\n\u001b[1;32m--> 406\u001b[0m     \u001b[39mself\u001b[39;49m\u001b[39m.\u001b[39;49mfigure\u001b[39m.\u001b[39;49mdraw(\u001b[39mself\u001b[39;49m\u001b[39m.\u001b[39;49mrenderer)\n\u001b[0;32m    407\u001b[0m     \u001b[39m# A GUI class may be need to update a window using this draw, so\u001b[39;00m\n\u001b[0;32m    408\u001b[0m     \u001b[39m# don't forget to call the superclass.\u001b[39;00m\n\u001b[0;32m    409\u001b[0m     \u001b[39msuper\u001b[39m()\u001b[39m.\u001b[39mdraw()\n",
      "File \u001b[1;32mc:\\Users\\tyler\\AppData\\Local\\Programs\\Python\\Python39\\lib\\site-packages\\matplotlib\\artist.py:74\u001b[0m, in \u001b[0;36m_finalize_rasterization.<locals>.draw_wrapper\u001b[1;34m(artist, renderer, *args, **kwargs)\u001b[0m\n\u001b[0;32m     72\u001b[0m \u001b[39m@wraps\u001b[39m(draw)\n\u001b[0;32m     73\u001b[0m \u001b[39mdef\u001b[39;00m \u001b[39mdraw_wrapper\u001b[39m(artist, renderer, \u001b[39m*\u001b[39margs, \u001b[39m*\u001b[39m\u001b[39m*\u001b[39mkwargs):\n\u001b[1;32m---> 74\u001b[0m     result \u001b[39m=\u001b[39m draw(artist, renderer, \u001b[39m*\u001b[39margs, \u001b[39m*\u001b[39m\u001b[39m*\u001b[39mkwargs)\n\u001b[0;32m     75\u001b[0m     \u001b[39mif\u001b[39;00m renderer\u001b[39m.\u001b[39m_rasterizing:\n\u001b[0;32m     76\u001b[0m         renderer\u001b[39m.\u001b[39mstop_rasterizing()\n",
      "File \u001b[1;32mc:\\Users\\tyler\\AppData\\Local\\Programs\\Python\\Python39\\lib\\site-packages\\matplotlib\\artist.py:51\u001b[0m, in \u001b[0;36mallow_rasterization.<locals>.draw_wrapper\u001b[1;34m(artist, renderer, *args, **kwargs)\u001b[0m\n\u001b[0;32m     48\u001b[0m     \u001b[39mif\u001b[39;00m artist\u001b[39m.\u001b[39mget_agg_filter() \u001b[39mis\u001b[39;00m \u001b[39mnot\u001b[39;00m \u001b[39mNone\u001b[39;00m:\n\u001b[0;32m     49\u001b[0m         renderer\u001b[39m.\u001b[39mstart_filter()\n\u001b[1;32m---> 51\u001b[0m     \u001b[39mreturn\u001b[39;00m draw(artist, renderer, \u001b[39m*\u001b[39margs, \u001b[39m*\u001b[39m\u001b[39m*\u001b[39mkwargs)\n\u001b[0;32m     52\u001b[0m \u001b[39mfinally\u001b[39;00m:\n\u001b[0;32m     53\u001b[0m     \u001b[39mif\u001b[39;00m artist\u001b[39m.\u001b[39mget_agg_filter() \u001b[39mis\u001b[39;00m \u001b[39mnot\u001b[39;00m \u001b[39mNone\u001b[39;00m:\n",
      "File \u001b[1;32mc:\\Users\\tyler\\AppData\\Local\\Programs\\Python\\Python39\\lib\\site-packages\\matplotlib\\figure.py:2790\u001b[0m, in \u001b[0;36mFigure.draw\u001b[1;34m(self, renderer)\u001b[0m\n\u001b[0;32m   2787\u001b[0m         \u001b[39m# ValueError can occur when resizing a window.\u001b[39;00m\n\u001b[0;32m   2789\u001b[0m \u001b[39mself\u001b[39m\u001b[39m.\u001b[39mpatch\u001b[39m.\u001b[39mdraw(renderer)\n\u001b[1;32m-> 2790\u001b[0m mimage\u001b[39m.\u001b[39;49m_draw_list_compositing_images(\n\u001b[0;32m   2791\u001b[0m     renderer, \u001b[39mself\u001b[39;49m, artists, \u001b[39mself\u001b[39;49m\u001b[39m.\u001b[39;49msuppressComposite)\n\u001b[0;32m   2793\u001b[0m \u001b[39mfor\u001b[39;00m sfig \u001b[39min\u001b[39;00m \u001b[39mself\u001b[39m\u001b[39m.\u001b[39msubfigs:\n\u001b[0;32m   2794\u001b[0m     sfig\u001b[39m.\u001b[39mdraw(renderer)\n",
      "File \u001b[1;32mc:\\Users\\tyler\\AppData\\Local\\Programs\\Python\\Python39\\lib\\site-packages\\matplotlib\\image.py:132\u001b[0m, in \u001b[0;36m_draw_list_compositing_images\u001b[1;34m(renderer, parent, artists, suppress_composite)\u001b[0m\n\u001b[0;32m    130\u001b[0m \u001b[39mif\u001b[39;00m not_composite \u001b[39mor\u001b[39;00m \u001b[39mnot\u001b[39;00m has_images:\n\u001b[0;32m    131\u001b[0m     \u001b[39mfor\u001b[39;00m a \u001b[39min\u001b[39;00m artists:\n\u001b[1;32m--> 132\u001b[0m         a\u001b[39m.\u001b[39;49mdraw(renderer)\n\u001b[0;32m    133\u001b[0m \u001b[39melse\u001b[39;00m:\n\u001b[0;32m    134\u001b[0m     \u001b[39m# Composite any adjacent images together\u001b[39;00m\n\u001b[0;32m    135\u001b[0m     image_group \u001b[39m=\u001b[39m []\n",
      "File \u001b[1;32mc:\\Users\\tyler\\AppData\\Local\\Programs\\Python\\Python39\\lib\\site-packages\\matplotlib\\artist.py:51\u001b[0m, in \u001b[0;36mallow_rasterization.<locals>.draw_wrapper\u001b[1;34m(artist, renderer, *args, **kwargs)\u001b[0m\n\u001b[0;32m     48\u001b[0m     \u001b[39mif\u001b[39;00m artist\u001b[39m.\u001b[39mget_agg_filter() \u001b[39mis\u001b[39;00m \u001b[39mnot\u001b[39;00m \u001b[39mNone\u001b[39;00m:\n\u001b[0;32m     49\u001b[0m         renderer\u001b[39m.\u001b[39mstart_filter()\n\u001b[1;32m---> 51\u001b[0m     \u001b[39mreturn\u001b[39;00m draw(artist, renderer, \u001b[39m*\u001b[39margs, \u001b[39m*\u001b[39m\u001b[39m*\u001b[39mkwargs)\n\u001b[0;32m     52\u001b[0m \u001b[39mfinally\u001b[39;00m:\n\u001b[0;32m     53\u001b[0m     \u001b[39mif\u001b[39;00m artist\u001b[39m.\u001b[39mget_agg_filter() \u001b[39mis\u001b[39;00m \u001b[39mnot\u001b[39;00m \u001b[39mNone\u001b[39;00m:\n",
      "File \u001b[1;32mc:\\Users\\tyler\\AppData\\Local\\Programs\\Python\\Python39\\lib\\site-packages\\matplotlib\\_api\\deprecation.py:431\u001b[0m, in \u001b[0;36mdelete_parameter.<locals>.wrapper\u001b[1;34m(*inner_args, **inner_kwargs)\u001b[0m\n\u001b[0;32m    421\u001b[0m     deprecation_addendum \u001b[39m=\u001b[39m (\n\u001b[0;32m    422\u001b[0m         \u001b[39mf\u001b[39m\u001b[39m\"\u001b[39m\u001b[39mIf any parameter follows \u001b[39m\u001b[39m{\u001b[39;00mname\u001b[39m!r}\u001b[39;00m\u001b[39m, they should be passed as \u001b[39m\u001b[39m\"\u001b[39m\n\u001b[0;32m    423\u001b[0m         \u001b[39mf\u001b[39m\u001b[39m\"\u001b[39m\u001b[39mkeyword, not positionally.\u001b[39m\u001b[39m\"\u001b[39m)\n\u001b[0;32m    424\u001b[0m     warn_deprecated(\n\u001b[0;32m    425\u001b[0m         since,\n\u001b[0;32m    426\u001b[0m         name\u001b[39m=\u001b[39m\u001b[39mrepr\u001b[39m(name),\n\u001b[1;32m   (...)\u001b[0m\n\u001b[0;32m    429\u001b[0m                  \u001b[39melse\u001b[39;00m deprecation_addendum,\n\u001b[0;32m    430\u001b[0m         \u001b[39m*\u001b[39m\u001b[39m*\u001b[39mkwargs)\n\u001b[1;32m--> 431\u001b[0m \u001b[39mreturn\u001b[39;00m func(\u001b[39m*\u001b[39minner_args, \u001b[39m*\u001b[39m\u001b[39m*\u001b[39minner_kwargs)\n",
      "File \u001b[1;32mc:\\Users\\tyler\\AppData\\Local\\Programs\\Python\\Python39\\lib\\site-packages\\matplotlib\\axes\\_base.py:2881\u001b[0m, in \u001b[0;36m_AxesBase.draw\u001b[1;34m(self, renderer, inframe)\u001b[0m\n\u001b[0;32m   2878\u001b[0m     \u001b[39mfor\u001b[39;00m spine \u001b[39min\u001b[39;00m \u001b[39mself\u001b[39m\u001b[39m.\u001b[39mspines\u001b[39m.\u001b[39mvalues():\n\u001b[0;32m   2879\u001b[0m         artists\u001b[39m.\u001b[39mremove(spine)\n\u001b[1;32m-> 2881\u001b[0m \u001b[39mself\u001b[39;49m\u001b[39m.\u001b[39;49m_update_title_position(renderer)\n\u001b[0;32m   2883\u001b[0m \u001b[39mif\u001b[39;00m \u001b[39mnot\u001b[39;00m \u001b[39mself\u001b[39m\u001b[39m.\u001b[39maxison \u001b[39mor\u001b[39;00m inframe:\n\u001b[0;32m   2884\u001b[0m     \u001b[39mfor\u001b[39;00m _axis \u001b[39min\u001b[39;00m \u001b[39mself\u001b[39m\u001b[39m.\u001b[39m_get_axis_list():\n",
      "File \u001b[1;32mc:\\Users\\tyler\\AppData\\Local\\Programs\\Python\\Python39\\lib\\site-packages\\matplotlib\\axes\\_base.py:2822\u001b[0m, in \u001b[0;36m_AxesBase._update_title_position\u001b[1;34m(self, renderer)\u001b[0m\n\u001b[0;32m   2820\u001b[0m     _log\u001b[39m.\u001b[39mdebug(\u001b[39m'\u001b[39m\u001b[39mtop of axes not in the figure, so title not moved\u001b[39m\u001b[39m'\u001b[39m)\n\u001b[0;32m   2821\u001b[0m     \u001b[39mreturn\u001b[39;00m\n\u001b[1;32m-> 2822\u001b[0m \u001b[39mif\u001b[39;00m title\u001b[39m.\u001b[39;49mget_window_extent(renderer)\u001b[39m.\u001b[39mymin \u001b[39m<\u001b[39m top:\n\u001b[0;32m   2823\u001b[0m     _, y \u001b[39m=\u001b[39m \u001b[39mself\u001b[39m\u001b[39m.\u001b[39mtransAxes\u001b[39m.\u001b[39minverted()\u001b[39m.\u001b[39mtransform((\u001b[39m0\u001b[39m, top))\n\u001b[0;32m   2824\u001b[0m     title\u001b[39m.\u001b[39mset_position((x, y))\n",
      "File \u001b[1;32mc:\\Users\\tyler\\AppData\\Local\\Programs\\Python\\Python39\\lib\\site-packages\\matplotlib\\text.py:903\u001b[0m, in \u001b[0;36mText.get_window_extent\u001b[1;34m(self, renderer, dpi)\u001b[0m\n\u001b[0;32m    900\u001b[0m     \u001b[39mraise\u001b[39;00m \u001b[39mRuntimeError\u001b[39;00m(\u001b[39m'\u001b[39m\u001b[39mCannot get window extent w/o renderer\u001b[39m\u001b[39m'\u001b[39m)\n\u001b[0;32m    902\u001b[0m \u001b[39mwith\u001b[39;00m cbook\u001b[39m.\u001b[39m_setattr_cm(\u001b[39mself\u001b[39m\u001b[39m.\u001b[39mfigure, dpi\u001b[39m=\u001b[39mdpi):\n\u001b[1;32m--> 903\u001b[0m     bbox, info, descent \u001b[39m=\u001b[39m \u001b[39mself\u001b[39;49m\u001b[39m.\u001b[39;49m_get_layout(\u001b[39mself\u001b[39;49m\u001b[39m.\u001b[39;49m_renderer)\n\u001b[0;32m    904\u001b[0m     x, y \u001b[39m=\u001b[39m \u001b[39mself\u001b[39m\u001b[39m.\u001b[39mget_unitless_position()\n\u001b[0;32m    905\u001b[0m     x, y \u001b[39m=\u001b[39m \u001b[39mself\u001b[39m\u001b[39m.\u001b[39mget_transform()\u001b[39m.\u001b[39mtransform((x, y))\n",
      "File \u001b[1;32mc:\\Users\\tyler\\AppData\\Local\\Programs\\Python\\Python39\\lib\\site-packages\\matplotlib\\text.py:306\u001b[0m, in \u001b[0;36mText._get_layout\u001b[1;34m(self, renderer)\u001b[0m\n\u001b[0;32m    303\u001b[0m ys \u001b[39m=\u001b[39m []\n\u001b[0;32m    305\u001b[0m \u001b[39m# Full vertical extent of font, including ascenders and descenders:\u001b[39;00m\n\u001b[1;32m--> 306\u001b[0m _, lp_h, lp_d \u001b[39m=\u001b[39m renderer\u001b[39m.\u001b[39;49mget_text_width_height_descent(\n\u001b[0;32m    307\u001b[0m     \u001b[39m\"\u001b[39;49m\u001b[39mlp\u001b[39;49m\u001b[39m\"\u001b[39;49m, \u001b[39mself\u001b[39;49m\u001b[39m.\u001b[39;49m_fontproperties,\n\u001b[0;32m    308\u001b[0m     ismath\u001b[39m=\u001b[39;49m\u001b[39m\"\u001b[39;49m\u001b[39mTeX\u001b[39;49m\u001b[39m\"\u001b[39;49m \u001b[39mif\u001b[39;49;00m \u001b[39mself\u001b[39;49m\u001b[39m.\u001b[39;49mget_usetex() \u001b[39melse\u001b[39;49;00m \u001b[39mFalse\u001b[39;49;00m)\n\u001b[0;32m    309\u001b[0m min_dy \u001b[39m=\u001b[39m (lp_h \u001b[39m-\u001b[39m lp_d) \u001b[39m*\u001b[39m \u001b[39mself\u001b[39m\u001b[39m.\u001b[39m_linespacing\n\u001b[0;32m    311\u001b[0m \u001b[39mfor\u001b[39;00m i, line \u001b[39min\u001b[39;00m \u001b[39menumerate\u001b[39m(lines):\n",
      "File \u001b[1;32mc:\\Users\\tyler\\AppData\\Local\\Programs\\Python\\Python39\\lib\\site-packages\\matplotlib\\backends\\backend_agg.py:229\u001b[0m, in \u001b[0;36mRendererAgg.get_text_width_height_descent\u001b[1;34m(self, s, prop, ismath)\u001b[0m\n\u001b[0;32m    227\u001b[0m     texmanager \u001b[39m=\u001b[39m \u001b[39mself\u001b[39m\u001b[39m.\u001b[39mget_texmanager()\n\u001b[0;32m    228\u001b[0m     fontsize \u001b[39m=\u001b[39m prop\u001b[39m.\u001b[39mget_size_in_points()\n\u001b[1;32m--> 229\u001b[0m     w, h, d \u001b[39m=\u001b[39m texmanager\u001b[39m.\u001b[39;49mget_text_width_height_descent(\n\u001b[0;32m    230\u001b[0m         s, fontsize, renderer\u001b[39m=\u001b[39;49m\u001b[39mself\u001b[39;49m)\n\u001b[0;32m    231\u001b[0m     \u001b[39mreturn\u001b[39;00m w, h, d\n\u001b[0;32m    233\u001b[0m \u001b[39mif\u001b[39;00m ismath:\n",
      "File \u001b[1;32mc:\\Users\\tyler\\AppData\\Local\\Programs\\Python\\Python39\\lib\\site-packages\\matplotlib\\texmanager.py:399\u001b[0m, in \u001b[0;36mTexManager.get_text_width_height_descent\u001b[1;34m(self, tex, fontsize, renderer)\u001b[0m\n\u001b[0;32m    395\u001b[0m     \u001b[39mreturn\u001b[39;00m width, height \u001b[39m+\u001b[39m depth, depth\n\u001b[0;32m    397\u001b[0m \u001b[39melse\u001b[39;00m:\n\u001b[0;32m    398\u001b[0m     \u001b[39m# use dviread.\u001b[39;00m\n\u001b[1;32m--> 399\u001b[0m     dvifile \u001b[39m=\u001b[39m \u001b[39mself\u001b[39;49m\u001b[39m.\u001b[39;49mmake_dvi(tex, fontsize)\n\u001b[0;32m    400\u001b[0m     \u001b[39mwith\u001b[39;00m dviread\u001b[39m.\u001b[39mDvi(dvifile, \u001b[39m72\u001b[39m \u001b[39m*\u001b[39m dpi_fraction) \u001b[39mas\u001b[39;00m dvi:\n\u001b[0;32m    401\u001b[0m         page, \u001b[39m=\u001b[39m dvi\n",
      "File \u001b[1;32mc:\\Users\\tyler\\AppData\\Local\\Programs\\Python\\Python39\\lib\\site-packages\\matplotlib\\texmanager.py:291\u001b[0m, in \u001b[0;36mTexManager.make_dvi\u001b[1;34m(self, tex, fontsize)\u001b[0m\n\u001b[0;32m    285\u001b[0m     \u001b[39m# Generate the dvi in a temporary directory to avoid race\u001b[39;00m\n\u001b[0;32m    286\u001b[0m     \u001b[39m# conditions e.g. if multiple processes try to process the same tex\u001b[39;00m\n\u001b[0;32m    287\u001b[0m     \u001b[39m# string at the same time.  Having tmpdir be a subdirectory of the\u001b[39;00m\n\u001b[0;32m    288\u001b[0m     \u001b[39m# final output dir ensures that they are on the same filesystem,\u001b[39;00m\n\u001b[0;32m    289\u001b[0m     \u001b[39m# and thus replace() works atomically.\u001b[39;00m\n\u001b[0;32m    290\u001b[0m     \u001b[39mwith\u001b[39;00m TemporaryDirectory(\u001b[39mdir\u001b[39m\u001b[39m=\u001b[39mPath(dvifile)\u001b[39m.\u001b[39mparent) \u001b[39mas\u001b[39;00m tmpdir:\n\u001b[1;32m--> 291\u001b[0m         \u001b[39mself\u001b[39;49m\u001b[39m.\u001b[39;49m_run_checked_subprocess(\n\u001b[0;32m    292\u001b[0m             [\u001b[39m\"\u001b[39;49m\u001b[39mlatex\u001b[39;49m\u001b[39m\"\u001b[39;49m, \u001b[39m\"\u001b[39;49m\u001b[39m-interaction=nonstopmode\u001b[39;49m\u001b[39m\"\u001b[39;49m, \u001b[39m\"\u001b[39;49m\u001b[39m--halt-on-error\u001b[39;49m\u001b[39m\"\u001b[39;49m,\n\u001b[0;32m    293\u001b[0m              texfile], tex, cwd\u001b[39m=\u001b[39;49mtmpdir)\n\u001b[0;32m    294\u001b[0m         (Path(tmpdir) \u001b[39m/\u001b[39m Path(dvifile)\u001b[39m.\u001b[39mname)\u001b[39m.\u001b[39mreplace(dvifile)\n\u001b[0;32m    295\u001b[0m \u001b[39mreturn\u001b[39;00m dvifile\n",
      "File \u001b[1;32mc:\\Users\\tyler\\AppData\\Local\\Programs\\Python\\Python39\\lib\\site-packages\\matplotlib\\texmanager.py:256\u001b[0m, in \u001b[0;36mTexManager._run_checked_subprocess\u001b[1;34m(self, command, tex, cwd)\u001b[0m\n\u001b[0;32m    252\u001b[0m     report \u001b[39m=\u001b[39m subprocess\u001b[39m.\u001b[39mcheck_output(\n\u001b[0;32m    253\u001b[0m         command, cwd\u001b[39m=\u001b[39mcwd \u001b[39mif\u001b[39;00m cwd \u001b[39mis\u001b[39;00m \u001b[39mnot\u001b[39;00m \u001b[39mNone\u001b[39;00m \u001b[39melse\u001b[39;00m \u001b[39mself\u001b[39m\u001b[39m.\u001b[39mtexcache,\n\u001b[0;32m    254\u001b[0m         stderr\u001b[39m=\u001b[39msubprocess\u001b[39m.\u001b[39mSTDOUT)\n\u001b[0;32m    255\u001b[0m \u001b[39mexcept\u001b[39;00m \u001b[39mFileNotFoundError\u001b[39;00m \u001b[39mas\u001b[39;00m exc:\n\u001b[1;32m--> 256\u001b[0m     \u001b[39mraise\u001b[39;00m \u001b[39mRuntimeError\u001b[39;00m(\n\u001b[0;32m    257\u001b[0m         \u001b[39m'\u001b[39m\u001b[39mFailed to process string with tex because \u001b[39m\u001b[39m{}\u001b[39;00m\u001b[39m could not be \u001b[39m\u001b[39m'\u001b[39m\n\u001b[0;32m    258\u001b[0m         \u001b[39m'\u001b[39m\u001b[39mfound\u001b[39m\u001b[39m'\u001b[39m\u001b[39m.\u001b[39mformat(command[\u001b[39m0\u001b[39m])) \u001b[39mfrom\u001b[39;00m \u001b[39mexc\u001b[39;00m\n\u001b[0;32m    259\u001b[0m \u001b[39mexcept\u001b[39;00m subprocess\u001b[39m.\u001b[39mCalledProcessError \u001b[39mas\u001b[39;00m exc:\n\u001b[0;32m    260\u001b[0m     \u001b[39mraise\u001b[39;00m \u001b[39mRuntimeError\u001b[39;00m(\n\u001b[0;32m    261\u001b[0m         \u001b[39m'\u001b[39m\u001b[39m{prog}\u001b[39;00m\u001b[39m was not able to process the following string:\u001b[39m\u001b[39m\\n\u001b[39;00m\u001b[39m'\u001b[39m\n\u001b[0;32m    262\u001b[0m         \u001b[39m'\u001b[39m\u001b[39m{tex!r}\u001b[39;00m\u001b[39m\\n\u001b[39;00m\u001b[39m\\n\u001b[39;00m\u001b[39m'\u001b[39m\n\u001b[1;32m   (...)\u001b[0m\n\u001b[0;32m    266\u001b[0m             tex\u001b[39m=\u001b[39mtex\u001b[39m.\u001b[39mencode(\u001b[39m'\u001b[39m\u001b[39municode_escape\u001b[39m\u001b[39m'\u001b[39m),\n\u001b[0;32m    267\u001b[0m             exc\u001b[39m=\u001b[39mexc\u001b[39m.\u001b[39moutput\u001b[39m.\u001b[39mdecode(\u001b[39m'\u001b[39m\u001b[39mutf-8\u001b[39m\u001b[39m'\u001b[39m))) \u001b[39mfrom\u001b[39;00m \u001b[39mexc\u001b[39;00m\n",
      "\u001b[1;31mRuntimeError\u001b[0m: Failed to process string with tex because latex could not be found"
     ]
    },
    {
     "ename": "RuntimeError",
     "evalue": "Failed to process string with tex because latex could not be found",
     "output_type": "error",
     "traceback": [
      "\u001b[1;31m---------------------------------------------------------------------------\u001b[0m",
      "\u001b[1;31mFileNotFoundError\u001b[0m                         Traceback (most recent call last)",
      "File \u001b[1;32mc:\\Users\\tyler\\AppData\\Local\\Programs\\Python\\Python39\\lib\\site-packages\\matplotlib\\texmanager.py:252\u001b[0m, in \u001b[0;36mTexManager._run_checked_subprocess\u001b[1;34m(self, command, tex, cwd)\u001b[0m\n\u001b[0;32m    251\u001b[0m \u001b[39mtry\u001b[39;00m:\n\u001b[1;32m--> 252\u001b[0m     report \u001b[39m=\u001b[39m subprocess\u001b[39m.\u001b[39;49mcheck_output(\n\u001b[0;32m    253\u001b[0m         command, cwd\u001b[39m=\u001b[39;49mcwd \u001b[39mif\u001b[39;49;00m cwd \u001b[39mis\u001b[39;49;00m \u001b[39mnot\u001b[39;49;00m \u001b[39mNone\u001b[39;49;00m \u001b[39melse\u001b[39;49;00m \u001b[39mself\u001b[39;49m\u001b[39m.\u001b[39;49mtexcache,\n\u001b[0;32m    254\u001b[0m         stderr\u001b[39m=\u001b[39;49msubprocess\u001b[39m.\u001b[39;49mSTDOUT)\n\u001b[0;32m    255\u001b[0m \u001b[39mexcept\u001b[39;00m \u001b[39mFileNotFoundError\u001b[39;00m \u001b[39mas\u001b[39;00m exc:\n",
      "File \u001b[1;32mc:\\Users\\tyler\\AppData\\Local\\Programs\\Python\\Python39\\lib\\subprocess.py:424\u001b[0m, in \u001b[0;36mcheck_output\u001b[1;34m(timeout, *popenargs, **kwargs)\u001b[0m\n\u001b[0;32m    422\u001b[0m     kwargs[\u001b[39m'\u001b[39m\u001b[39minput\u001b[39m\u001b[39m'\u001b[39m] \u001b[39m=\u001b[39m empty\n\u001b[1;32m--> 424\u001b[0m \u001b[39mreturn\u001b[39;00m run(\u001b[39m*\u001b[39mpopenargs, stdout\u001b[39m=\u001b[39mPIPE, timeout\u001b[39m=\u001b[39mtimeout, check\u001b[39m=\u001b[39m\u001b[39mTrue\u001b[39;00m,\n\u001b[0;32m    425\u001b[0m            \u001b[39m*\u001b[39m\u001b[39m*\u001b[39mkwargs)\u001b[39m.\u001b[39mstdout\n",
      "File \u001b[1;32mc:\\Users\\tyler\\AppData\\Local\\Programs\\Python\\Python39\\lib\\subprocess.py:505\u001b[0m, in \u001b[0;36mrun\u001b[1;34m(input, capture_output, timeout, check, *popenargs, **kwargs)\u001b[0m\n\u001b[0;32m    503\u001b[0m     kwargs[\u001b[39m'\u001b[39m\u001b[39mstderr\u001b[39m\u001b[39m'\u001b[39m] \u001b[39m=\u001b[39m PIPE\n\u001b[1;32m--> 505\u001b[0m \u001b[39mwith\u001b[39;00m Popen(\u001b[39m*\u001b[39mpopenargs, \u001b[39m*\u001b[39m\u001b[39m*\u001b[39mkwargs) \u001b[39mas\u001b[39;00m process:\n\u001b[0;32m    506\u001b[0m     \u001b[39mtry\u001b[39;00m:\n",
      "File \u001b[1;32mc:\\Users\\tyler\\AppData\\Local\\Programs\\Python\\Python39\\lib\\subprocess.py:951\u001b[0m, in \u001b[0;36mPopen.__init__\u001b[1;34m(self, args, bufsize, executable, stdin, stdout, stderr, preexec_fn, close_fds, shell, cwd, env, universal_newlines, startupinfo, creationflags, restore_signals, start_new_session, pass_fds, user, group, extra_groups, encoding, errors, text, umask)\u001b[0m\n\u001b[0;32m    948\u001b[0m             \u001b[39mself\u001b[39m\u001b[39m.\u001b[39mstderr \u001b[39m=\u001b[39m io\u001b[39m.\u001b[39mTextIOWrapper(\u001b[39mself\u001b[39m\u001b[39m.\u001b[39mstderr,\n\u001b[0;32m    949\u001b[0m                     encoding\u001b[39m=\u001b[39mencoding, errors\u001b[39m=\u001b[39merrors)\n\u001b[1;32m--> 951\u001b[0m     \u001b[39mself\u001b[39;49m\u001b[39m.\u001b[39;49m_execute_child(args, executable, preexec_fn, close_fds,\n\u001b[0;32m    952\u001b[0m                         pass_fds, cwd, env,\n\u001b[0;32m    953\u001b[0m                         startupinfo, creationflags, shell,\n\u001b[0;32m    954\u001b[0m                         p2cread, p2cwrite,\n\u001b[0;32m    955\u001b[0m                         c2pread, c2pwrite,\n\u001b[0;32m    956\u001b[0m                         errread, errwrite,\n\u001b[0;32m    957\u001b[0m                         restore_signals,\n\u001b[0;32m    958\u001b[0m                         gid, gids, uid, umask,\n\u001b[0;32m    959\u001b[0m                         start_new_session)\n\u001b[0;32m    960\u001b[0m \u001b[39mexcept\u001b[39;00m:\n\u001b[0;32m    961\u001b[0m     \u001b[39m# Cleanup if the child failed starting.\u001b[39;00m\n",
      "File \u001b[1;32mc:\\Users\\tyler\\AppData\\Local\\Programs\\Python\\Python39\\lib\\subprocess.py:1420\u001b[0m, in \u001b[0;36mPopen._execute_child\u001b[1;34m(self, args, executable, preexec_fn, close_fds, pass_fds, cwd, env, startupinfo, creationflags, shell, p2cread, p2cwrite, c2pread, c2pwrite, errread, errwrite, unused_restore_signals, unused_gid, unused_gids, unused_uid, unused_umask, unused_start_new_session)\u001b[0m\n\u001b[0;32m   1419\u001b[0m \u001b[39mtry\u001b[39;00m:\n\u001b[1;32m-> 1420\u001b[0m     hp, ht, pid, tid \u001b[39m=\u001b[39m _winapi\u001b[39m.\u001b[39;49mCreateProcess(executable, args,\n\u001b[0;32m   1421\u001b[0m                              \u001b[39m# no special security\u001b[39;49;00m\n\u001b[0;32m   1422\u001b[0m                              \u001b[39mNone\u001b[39;49;00m, \u001b[39mNone\u001b[39;49;00m,\n\u001b[0;32m   1423\u001b[0m                              \u001b[39mint\u001b[39;49m(\u001b[39mnot\u001b[39;49;00m close_fds),\n\u001b[0;32m   1424\u001b[0m                              creationflags,\n\u001b[0;32m   1425\u001b[0m                              env,\n\u001b[0;32m   1426\u001b[0m                              cwd,\n\u001b[0;32m   1427\u001b[0m                              startupinfo)\n\u001b[0;32m   1428\u001b[0m \u001b[39mfinally\u001b[39;00m:\n\u001b[0;32m   1429\u001b[0m     \u001b[39m# Child is launched. Close the parent's copy of those pipe\u001b[39;00m\n\u001b[0;32m   1430\u001b[0m     \u001b[39m# handles that only the child should have open.  You need\u001b[39;00m\n\u001b[1;32m   (...)\u001b[0m\n\u001b[0;32m   1433\u001b[0m     \u001b[39m# pipe will not close when the child process exits and the\u001b[39;00m\n\u001b[0;32m   1434\u001b[0m     \u001b[39m# ReadFile will hang.\u001b[39;00m\n",
      "\u001b[1;31mFileNotFoundError\u001b[0m: [WinError 2] The system cannot find the file specified",
      "\nThe above exception was the direct cause of the following exception:\n",
      "\u001b[1;31mRuntimeError\u001b[0m                              Traceback (most recent call last)",
      "File \u001b[1;32mc:\\Users\\tyler\\AppData\\Local\\Programs\\Python\\Python39\\lib\\site-packages\\IPython\\core\\formatters.py:339\u001b[0m, in \u001b[0;36mBaseFormatter.__call__\u001b[1;34m(self, obj)\u001b[0m\n\u001b[0;32m    337\u001b[0m     \u001b[39mpass\u001b[39;00m\n\u001b[0;32m    338\u001b[0m \u001b[39melse\u001b[39;00m:\n\u001b[1;32m--> 339\u001b[0m     \u001b[39mreturn\u001b[39;00m printer(obj)\n\u001b[0;32m    340\u001b[0m \u001b[39m# Finally look for special method names\u001b[39;00m\n\u001b[0;32m    341\u001b[0m method \u001b[39m=\u001b[39m get_real_method(obj, \u001b[39mself\u001b[39m\u001b[39m.\u001b[39mprint_method)\n",
      "File \u001b[1;32mc:\\Users\\tyler\\AppData\\Local\\Programs\\Python\\Python39\\lib\\site-packages\\IPython\\core\\pylabtools.py:151\u001b[0m, in \u001b[0;36mprint_figure\u001b[1;34m(fig, fmt, bbox_inches, base64, **kwargs)\u001b[0m\n\u001b[0;32m    148\u001b[0m     \u001b[39mfrom\u001b[39;00m \u001b[39mmatplotlib\u001b[39;00m\u001b[39m.\u001b[39;00m\u001b[39mbackend_bases\u001b[39;00m \u001b[39mimport\u001b[39;00m FigureCanvasBase\n\u001b[0;32m    149\u001b[0m     FigureCanvasBase(fig)\n\u001b[1;32m--> 151\u001b[0m fig\u001b[39m.\u001b[39mcanvas\u001b[39m.\u001b[39mprint_figure(bytes_io, \u001b[39m*\u001b[39m\u001b[39m*\u001b[39mkw)\n\u001b[0;32m    152\u001b[0m data \u001b[39m=\u001b[39m bytes_io\u001b[39m.\u001b[39mgetvalue()\n\u001b[0;32m    153\u001b[0m \u001b[39mif\u001b[39;00m fmt \u001b[39m==\u001b[39m \u001b[39m'\u001b[39m\u001b[39msvg\u001b[39m\u001b[39m'\u001b[39m:\n",
      "File \u001b[1;32mc:\\Users\\tyler\\AppData\\Local\\Programs\\Python\\Python39\\lib\\site-packages\\matplotlib\\backend_bases.py:2230\u001b[0m, in \u001b[0;36mFigureCanvasBase.print_figure\u001b[1;34m(self, filename, dpi, facecolor, edgecolor, orientation, format, bbox_inches, pad_inches, bbox_extra_artists, backend, **kwargs)\u001b[0m\n\u001b[0;32m   2226\u001b[0m     ctx \u001b[39m=\u001b[39m (renderer\u001b[39m.\u001b[39m_draw_disabled()\n\u001b[0;32m   2227\u001b[0m            \u001b[39mif\u001b[39;00m \u001b[39mhasattr\u001b[39m(renderer, \u001b[39m'\u001b[39m\u001b[39m_draw_disabled\u001b[39m\u001b[39m'\u001b[39m)\n\u001b[0;32m   2228\u001b[0m            \u001b[39melse\u001b[39;00m suppress())\n\u001b[0;32m   2229\u001b[0m     \u001b[39mwith\u001b[39;00m ctx:\n\u001b[1;32m-> 2230\u001b[0m         \u001b[39mself\u001b[39;49m\u001b[39m.\u001b[39;49mfigure\u001b[39m.\u001b[39;49mdraw(renderer)\n\u001b[0;32m   2232\u001b[0m \u001b[39mif\u001b[39;00m bbox_inches:\n\u001b[0;32m   2233\u001b[0m     \u001b[39mif\u001b[39;00m bbox_inches \u001b[39m==\u001b[39m \u001b[39m\"\u001b[39m\u001b[39mtight\u001b[39m\u001b[39m\"\u001b[39m:\n",
      "File \u001b[1;32mc:\\Users\\tyler\\AppData\\Local\\Programs\\Python\\Python39\\lib\\site-packages\\matplotlib\\artist.py:74\u001b[0m, in \u001b[0;36m_finalize_rasterization.<locals>.draw_wrapper\u001b[1;34m(artist, renderer, *args, **kwargs)\u001b[0m\n\u001b[0;32m     72\u001b[0m \u001b[39m@wraps\u001b[39m(draw)\n\u001b[0;32m     73\u001b[0m \u001b[39mdef\u001b[39;00m \u001b[39mdraw_wrapper\u001b[39m(artist, renderer, \u001b[39m*\u001b[39margs, \u001b[39m*\u001b[39m\u001b[39m*\u001b[39mkwargs):\n\u001b[1;32m---> 74\u001b[0m     result \u001b[39m=\u001b[39m draw(artist, renderer, \u001b[39m*\u001b[39margs, \u001b[39m*\u001b[39m\u001b[39m*\u001b[39mkwargs)\n\u001b[0;32m     75\u001b[0m     \u001b[39mif\u001b[39;00m renderer\u001b[39m.\u001b[39m_rasterizing:\n\u001b[0;32m     76\u001b[0m         renderer\u001b[39m.\u001b[39mstop_rasterizing()\n",
      "File \u001b[1;32mc:\\Users\\tyler\\AppData\\Local\\Programs\\Python\\Python39\\lib\\site-packages\\matplotlib\\artist.py:51\u001b[0m, in \u001b[0;36mallow_rasterization.<locals>.draw_wrapper\u001b[1;34m(artist, renderer, *args, **kwargs)\u001b[0m\n\u001b[0;32m     48\u001b[0m     \u001b[39mif\u001b[39;00m artist\u001b[39m.\u001b[39mget_agg_filter() \u001b[39mis\u001b[39;00m \u001b[39mnot\u001b[39;00m \u001b[39mNone\u001b[39;00m:\n\u001b[0;32m     49\u001b[0m         renderer\u001b[39m.\u001b[39mstart_filter()\n\u001b[1;32m---> 51\u001b[0m     \u001b[39mreturn\u001b[39;00m draw(artist, renderer, \u001b[39m*\u001b[39margs, \u001b[39m*\u001b[39m\u001b[39m*\u001b[39mkwargs)\n\u001b[0;32m     52\u001b[0m \u001b[39mfinally\u001b[39;00m:\n\u001b[0;32m     53\u001b[0m     \u001b[39mif\u001b[39;00m artist\u001b[39m.\u001b[39mget_agg_filter() \u001b[39mis\u001b[39;00m \u001b[39mnot\u001b[39;00m \u001b[39mNone\u001b[39;00m:\n",
      "File \u001b[1;32mc:\\Users\\tyler\\AppData\\Local\\Programs\\Python\\Python39\\lib\\site-packages\\matplotlib\\figure.py:2790\u001b[0m, in \u001b[0;36mFigure.draw\u001b[1;34m(self, renderer)\u001b[0m\n\u001b[0;32m   2787\u001b[0m         \u001b[39m# ValueError can occur when resizing a window.\u001b[39;00m\n\u001b[0;32m   2789\u001b[0m \u001b[39mself\u001b[39m\u001b[39m.\u001b[39mpatch\u001b[39m.\u001b[39mdraw(renderer)\n\u001b[1;32m-> 2790\u001b[0m mimage\u001b[39m.\u001b[39;49m_draw_list_compositing_images(\n\u001b[0;32m   2791\u001b[0m     renderer, \u001b[39mself\u001b[39;49m, artists, \u001b[39mself\u001b[39;49m\u001b[39m.\u001b[39;49msuppressComposite)\n\u001b[0;32m   2793\u001b[0m \u001b[39mfor\u001b[39;00m sfig \u001b[39min\u001b[39;00m \u001b[39mself\u001b[39m\u001b[39m.\u001b[39msubfigs:\n\u001b[0;32m   2794\u001b[0m     sfig\u001b[39m.\u001b[39mdraw(renderer)\n",
      "File \u001b[1;32mc:\\Users\\tyler\\AppData\\Local\\Programs\\Python\\Python39\\lib\\site-packages\\matplotlib\\image.py:132\u001b[0m, in \u001b[0;36m_draw_list_compositing_images\u001b[1;34m(renderer, parent, artists, suppress_composite)\u001b[0m\n\u001b[0;32m    130\u001b[0m \u001b[39mif\u001b[39;00m not_composite \u001b[39mor\u001b[39;00m \u001b[39mnot\u001b[39;00m has_images:\n\u001b[0;32m    131\u001b[0m     \u001b[39mfor\u001b[39;00m a \u001b[39min\u001b[39;00m artists:\n\u001b[1;32m--> 132\u001b[0m         a\u001b[39m.\u001b[39;49mdraw(renderer)\n\u001b[0;32m    133\u001b[0m \u001b[39melse\u001b[39;00m:\n\u001b[0;32m    134\u001b[0m     \u001b[39m# Composite any adjacent images together\u001b[39;00m\n\u001b[0;32m    135\u001b[0m     image_group \u001b[39m=\u001b[39m []\n",
      "File \u001b[1;32mc:\\Users\\tyler\\AppData\\Local\\Programs\\Python\\Python39\\lib\\site-packages\\matplotlib\\artist.py:51\u001b[0m, in \u001b[0;36mallow_rasterization.<locals>.draw_wrapper\u001b[1;34m(artist, renderer, *args, **kwargs)\u001b[0m\n\u001b[0;32m     48\u001b[0m     \u001b[39mif\u001b[39;00m artist\u001b[39m.\u001b[39mget_agg_filter() \u001b[39mis\u001b[39;00m \u001b[39mnot\u001b[39;00m \u001b[39mNone\u001b[39;00m:\n\u001b[0;32m     49\u001b[0m         renderer\u001b[39m.\u001b[39mstart_filter()\n\u001b[1;32m---> 51\u001b[0m     \u001b[39mreturn\u001b[39;00m draw(artist, renderer, \u001b[39m*\u001b[39margs, \u001b[39m*\u001b[39m\u001b[39m*\u001b[39mkwargs)\n\u001b[0;32m     52\u001b[0m \u001b[39mfinally\u001b[39;00m:\n\u001b[0;32m     53\u001b[0m     \u001b[39mif\u001b[39;00m artist\u001b[39m.\u001b[39mget_agg_filter() \u001b[39mis\u001b[39;00m \u001b[39mnot\u001b[39;00m \u001b[39mNone\u001b[39;00m:\n",
      "File \u001b[1;32mc:\\Users\\tyler\\AppData\\Local\\Programs\\Python\\Python39\\lib\\site-packages\\matplotlib\\_api\\deprecation.py:431\u001b[0m, in \u001b[0;36mdelete_parameter.<locals>.wrapper\u001b[1;34m(*inner_args, **inner_kwargs)\u001b[0m\n\u001b[0;32m    421\u001b[0m     deprecation_addendum \u001b[39m=\u001b[39m (\n\u001b[0;32m    422\u001b[0m         \u001b[39mf\u001b[39m\u001b[39m\"\u001b[39m\u001b[39mIf any parameter follows \u001b[39m\u001b[39m{\u001b[39;00mname\u001b[39m!r}\u001b[39;00m\u001b[39m, they should be passed as \u001b[39m\u001b[39m\"\u001b[39m\n\u001b[0;32m    423\u001b[0m         \u001b[39mf\u001b[39m\u001b[39m\"\u001b[39m\u001b[39mkeyword, not positionally.\u001b[39m\u001b[39m\"\u001b[39m)\n\u001b[0;32m    424\u001b[0m     warn_deprecated(\n\u001b[0;32m    425\u001b[0m         since,\n\u001b[0;32m    426\u001b[0m         name\u001b[39m=\u001b[39m\u001b[39mrepr\u001b[39m(name),\n\u001b[1;32m   (...)\u001b[0m\n\u001b[0;32m    429\u001b[0m                  \u001b[39melse\u001b[39;00m deprecation_addendum,\n\u001b[0;32m    430\u001b[0m         \u001b[39m*\u001b[39m\u001b[39m*\u001b[39mkwargs)\n\u001b[1;32m--> 431\u001b[0m \u001b[39mreturn\u001b[39;00m func(\u001b[39m*\u001b[39minner_args, \u001b[39m*\u001b[39m\u001b[39m*\u001b[39minner_kwargs)\n",
      "File \u001b[1;32mc:\\Users\\tyler\\AppData\\Local\\Programs\\Python\\Python39\\lib\\site-packages\\matplotlib\\axes\\_base.py:2881\u001b[0m, in \u001b[0;36m_AxesBase.draw\u001b[1;34m(self, renderer, inframe)\u001b[0m\n\u001b[0;32m   2878\u001b[0m     \u001b[39mfor\u001b[39;00m spine \u001b[39min\u001b[39;00m \u001b[39mself\u001b[39m\u001b[39m.\u001b[39mspines\u001b[39m.\u001b[39mvalues():\n\u001b[0;32m   2879\u001b[0m         artists\u001b[39m.\u001b[39mremove(spine)\n\u001b[1;32m-> 2881\u001b[0m \u001b[39mself\u001b[39;49m\u001b[39m.\u001b[39;49m_update_title_position(renderer)\n\u001b[0;32m   2883\u001b[0m \u001b[39mif\u001b[39;00m \u001b[39mnot\u001b[39;00m \u001b[39mself\u001b[39m\u001b[39m.\u001b[39maxison \u001b[39mor\u001b[39;00m inframe:\n\u001b[0;32m   2884\u001b[0m     \u001b[39mfor\u001b[39;00m _axis \u001b[39min\u001b[39;00m \u001b[39mself\u001b[39m\u001b[39m.\u001b[39m_get_axis_list():\n",
      "File \u001b[1;32mc:\\Users\\tyler\\AppData\\Local\\Programs\\Python\\Python39\\lib\\site-packages\\matplotlib\\axes\\_base.py:2822\u001b[0m, in \u001b[0;36m_AxesBase._update_title_position\u001b[1;34m(self, renderer)\u001b[0m\n\u001b[0;32m   2820\u001b[0m     _log\u001b[39m.\u001b[39mdebug(\u001b[39m'\u001b[39m\u001b[39mtop of axes not in the figure, so title not moved\u001b[39m\u001b[39m'\u001b[39m)\n\u001b[0;32m   2821\u001b[0m     \u001b[39mreturn\u001b[39;00m\n\u001b[1;32m-> 2822\u001b[0m \u001b[39mif\u001b[39;00m title\u001b[39m.\u001b[39;49mget_window_extent(renderer)\u001b[39m.\u001b[39mymin \u001b[39m<\u001b[39m top:\n\u001b[0;32m   2823\u001b[0m     _, y \u001b[39m=\u001b[39m \u001b[39mself\u001b[39m\u001b[39m.\u001b[39mtransAxes\u001b[39m.\u001b[39minverted()\u001b[39m.\u001b[39mtransform((\u001b[39m0\u001b[39m, top))\n\u001b[0;32m   2824\u001b[0m     title\u001b[39m.\u001b[39mset_position((x, y))\n",
      "File \u001b[1;32mc:\\Users\\tyler\\AppData\\Local\\Programs\\Python\\Python39\\lib\\site-packages\\matplotlib\\text.py:903\u001b[0m, in \u001b[0;36mText.get_window_extent\u001b[1;34m(self, renderer, dpi)\u001b[0m\n\u001b[0;32m    900\u001b[0m     \u001b[39mraise\u001b[39;00m \u001b[39mRuntimeError\u001b[39;00m(\u001b[39m'\u001b[39m\u001b[39mCannot get window extent w/o renderer\u001b[39m\u001b[39m'\u001b[39m)\n\u001b[0;32m    902\u001b[0m \u001b[39mwith\u001b[39;00m cbook\u001b[39m.\u001b[39m_setattr_cm(\u001b[39mself\u001b[39m\u001b[39m.\u001b[39mfigure, dpi\u001b[39m=\u001b[39mdpi):\n\u001b[1;32m--> 903\u001b[0m     bbox, info, descent \u001b[39m=\u001b[39m \u001b[39mself\u001b[39;49m\u001b[39m.\u001b[39;49m_get_layout(\u001b[39mself\u001b[39;49m\u001b[39m.\u001b[39;49m_renderer)\n\u001b[0;32m    904\u001b[0m     x, y \u001b[39m=\u001b[39m \u001b[39mself\u001b[39m\u001b[39m.\u001b[39mget_unitless_position()\n\u001b[0;32m    905\u001b[0m     x, y \u001b[39m=\u001b[39m \u001b[39mself\u001b[39m\u001b[39m.\u001b[39mget_transform()\u001b[39m.\u001b[39mtransform((x, y))\n",
      "File \u001b[1;32mc:\\Users\\tyler\\AppData\\Local\\Programs\\Python\\Python39\\lib\\site-packages\\matplotlib\\text.py:306\u001b[0m, in \u001b[0;36mText._get_layout\u001b[1;34m(self, renderer)\u001b[0m\n\u001b[0;32m    303\u001b[0m ys \u001b[39m=\u001b[39m []\n\u001b[0;32m    305\u001b[0m \u001b[39m# Full vertical extent of font, including ascenders and descenders:\u001b[39;00m\n\u001b[1;32m--> 306\u001b[0m _, lp_h, lp_d \u001b[39m=\u001b[39m renderer\u001b[39m.\u001b[39;49mget_text_width_height_descent(\n\u001b[0;32m    307\u001b[0m     \u001b[39m\"\u001b[39;49m\u001b[39mlp\u001b[39;49m\u001b[39m\"\u001b[39;49m, \u001b[39mself\u001b[39;49m\u001b[39m.\u001b[39;49m_fontproperties,\n\u001b[0;32m    308\u001b[0m     ismath\u001b[39m=\u001b[39;49m\u001b[39m\"\u001b[39;49m\u001b[39mTeX\u001b[39;49m\u001b[39m\"\u001b[39;49m \u001b[39mif\u001b[39;49;00m \u001b[39mself\u001b[39;49m\u001b[39m.\u001b[39;49mget_usetex() \u001b[39melse\u001b[39;49;00m \u001b[39mFalse\u001b[39;49;00m)\n\u001b[0;32m    309\u001b[0m min_dy \u001b[39m=\u001b[39m (lp_h \u001b[39m-\u001b[39m lp_d) \u001b[39m*\u001b[39m \u001b[39mself\u001b[39m\u001b[39m.\u001b[39m_linespacing\n\u001b[0;32m    311\u001b[0m \u001b[39mfor\u001b[39;00m i, line \u001b[39min\u001b[39;00m \u001b[39menumerate\u001b[39m(lines):\n",
      "File \u001b[1;32mc:\\Users\\tyler\\AppData\\Local\\Programs\\Python\\Python39\\lib\\site-packages\\matplotlib\\backends\\backend_agg.py:229\u001b[0m, in \u001b[0;36mRendererAgg.get_text_width_height_descent\u001b[1;34m(self, s, prop, ismath)\u001b[0m\n\u001b[0;32m    227\u001b[0m     texmanager \u001b[39m=\u001b[39m \u001b[39mself\u001b[39m\u001b[39m.\u001b[39mget_texmanager()\n\u001b[0;32m    228\u001b[0m     fontsize \u001b[39m=\u001b[39m prop\u001b[39m.\u001b[39mget_size_in_points()\n\u001b[1;32m--> 229\u001b[0m     w, h, d \u001b[39m=\u001b[39m texmanager\u001b[39m.\u001b[39;49mget_text_width_height_descent(\n\u001b[0;32m    230\u001b[0m         s, fontsize, renderer\u001b[39m=\u001b[39;49m\u001b[39mself\u001b[39;49m)\n\u001b[0;32m    231\u001b[0m     \u001b[39mreturn\u001b[39;00m w, h, d\n\u001b[0;32m    233\u001b[0m \u001b[39mif\u001b[39;00m ismath:\n",
      "File \u001b[1;32mc:\\Users\\tyler\\AppData\\Local\\Programs\\Python\\Python39\\lib\\site-packages\\matplotlib\\texmanager.py:399\u001b[0m, in \u001b[0;36mTexManager.get_text_width_height_descent\u001b[1;34m(self, tex, fontsize, renderer)\u001b[0m\n\u001b[0;32m    395\u001b[0m     \u001b[39mreturn\u001b[39;00m width, height \u001b[39m+\u001b[39m depth, depth\n\u001b[0;32m    397\u001b[0m \u001b[39melse\u001b[39;00m:\n\u001b[0;32m    398\u001b[0m     \u001b[39m# use dviread.\u001b[39;00m\n\u001b[1;32m--> 399\u001b[0m     dvifile \u001b[39m=\u001b[39m \u001b[39mself\u001b[39;49m\u001b[39m.\u001b[39;49mmake_dvi(tex, fontsize)\n\u001b[0;32m    400\u001b[0m     \u001b[39mwith\u001b[39;00m dviread\u001b[39m.\u001b[39mDvi(dvifile, \u001b[39m72\u001b[39m \u001b[39m*\u001b[39m dpi_fraction) \u001b[39mas\u001b[39;00m dvi:\n\u001b[0;32m    401\u001b[0m         page, \u001b[39m=\u001b[39m dvi\n",
      "File \u001b[1;32mc:\\Users\\tyler\\AppData\\Local\\Programs\\Python\\Python39\\lib\\site-packages\\matplotlib\\texmanager.py:291\u001b[0m, in \u001b[0;36mTexManager.make_dvi\u001b[1;34m(self, tex, fontsize)\u001b[0m\n\u001b[0;32m    285\u001b[0m     \u001b[39m# Generate the dvi in a temporary directory to avoid race\u001b[39;00m\n\u001b[0;32m    286\u001b[0m     \u001b[39m# conditions e.g. if multiple processes try to process the same tex\u001b[39;00m\n\u001b[0;32m    287\u001b[0m     \u001b[39m# string at the same time.  Having tmpdir be a subdirectory of the\u001b[39;00m\n\u001b[0;32m    288\u001b[0m     \u001b[39m# final output dir ensures that they are on the same filesystem,\u001b[39;00m\n\u001b[0;32m    289\u001b[0m     \u001b[39m# and thus replace() works atomically.\u001b[39;00m\n\u001b[0;32m    290\u001b[0m     \u001b[39mwith\u001b[39;00m TemporaryDirectory(\u001b[39mdir\u001b[39m\u001b[39m=\u001b[39mPath(dvifile)\u001b[39m.\u001b[39mparent) \u001b[39mas\u001b[39;00m tmpdir:\n\u001b[1;32m--> 291\u001b[0m         \u001b[39mself\u001b[39;49m\u001b[39m.\u001b[39;49m_run_checked_subprocess(\n\u001b[0;32m    292\u001b[0m             [\u001b[39m\"\u001b[39;49m\u001b[39mlatex\u001b[39;49m\u001b[39m\"\u001b[39;49m, \u001b[39m\"\u001b[39;49m\u001b[39m-interaction=nonstopmode\u001b[39;49m\u001b[39m\"\u001b[39;49m, \u001b[39m\"\u001b[39;49m\u001b[39m--halt-on-error\u001b[39;49m\u001b[39m\"\u001b[39;49m,\n\u001b[0;32m    293\u001b[0m              texfile], tex, cwd\u001b[39m=\u001b[39;49mtmpdir)\n\u001b[0;32m    294\u001b[0m         (Path(tmpdir) \u001b[39m/\u001b[39m Path(dvifile)\u001b[39m.\u001b[39mname)\u001b[39m.\u001b[39mreplace(dvifile)\n\u001b[0;32m    295\u001b[0m \u001b[39mreturn\u001b[39;00m dvifile\n",
      "File \u001b[1;32mc:\\Users\\tyler\\AppData\\Local\\Programs\\Python\\Python39\\lib\\site-packages\\matplotlib\\texmanager.py:256\u001b[0m, in \u001b[0;36mTexManager._run_checked_subprocess\u001b[1;34m(self, command, tex, cwd)\u001b[0m\n\u001b[0;32m    252\u001b[0m     report \u001b[39m=\u001b[39m subprocess\u001b[39m.\u001b[39mcheck_output(\n\u001b[0;32m    253\u001b[0m         command, cwd\u001b[39m=\u001b[39mcwd \u001b[39mif\u001b[39;00m cwd \u001b[39mis\u001b[39;00m \u001b[39mnot\u001b[39;00m \u001b[39mNone\u001b[39;00m \u001b[39melse\u001b[39;00m \u001b[39mself\u001b[39m\u001b[39m.\u001b[39mtexcache,\n\u001b[0;32m    254\u001b[0m         stderr\u001b[39m=\u001b[39msubprocess\u001b[39m.\u001b[39mSTDOUT)\n\u001b[0;32m    255\u001b[0m \u001b[39mexcept\u001b[39;00m \u001b[39mFileNotFoundError\u001b[39;00m \u001b[39mas\u001b[39;00m exc:\n\u001b[1;32m--> 256\u001b[0m     \u001b[39mraise\u001b[39;00m \u001b[39mRuntimeError\u001b[39;00m(\n\u001b[0;32m    257\u001b[0m         \u001b[39m'\u001b[39m\u001b[39mFailed to process string with tex because \u001b[39m\u001b[39m{}\u001b[39;00m\u001b[39m could not be \u001b[39m\u001b[39m'\u001b[39m\n\u001b[0;32m    258\u001b[0m         \u001b[39m'\u001b[39m\u001b[39mfound\u001b[39m\u001b[39m'\u001b[39m\u001b[39m.\u001b[39mformat(command[\u001b[39m0\u001b[39m])) \u001b[39mfrom\u001b[39;00m \u001b[39mexc\u001b[39;00m\n\u001b[0;32m    259\u001b[0m \u001b[39mexcept\u001b[39;00m subprocess\u001b[39m.\u001b[39mCalledProcessError \u001b[39mas\u001b[39;00m exc:\n\u001b[0;32m    260\u001b[0m     \u001b[39mraise\u001b[39;00m \u001b[39mRuntimeError\u001b[39;00m(\n\u001b[0;32m    261\u001b[0m         \u001b[39m'\u001b[39m\u001b[39m{prog}\u001b[39;00m\u001b[39m was not able to process the following string:\u001b[39m\u001b[39m\\n\u001b[39;00m\u001b[39m'\u001b[39m\n\u001b[0;32m    262\u001b[0m         \u001b[39m'\u001b[39m\u001b[39m{tex!r}\u001b[39;00m\u001b[39m\\n\u001b[39;00m\u001b[39m\\n\u001b[39;00m\u001b[39m'\u001b[39m\n\u001b[1;32m   (...)\u001b[0m\n\u001b[0;32m    266\u001b[0m             tex\u001b[39m=\u001b[39mtex\u001b[39m.\u001b[39mencode(\u001b[39m'\u001b[39m\u001b[39municode_escape\u001b[39m\u001b[39m'\u001b[39m),\n\u001b[0;32m    267\u001b[0m             exc\u001b[39m=\u001b[39mexc\u001b[39m.\u001b[39moutput\u001b[39m.\u001b[39mdecode(\u001b[39m'\u001b[39m\u001b[39mutf-8\u001b[39m\u001b[39m'\u001b[39m))) \u001b[39mfrom\u001b[39;00m \u001b[39mexc\u001b[39;00m\n",
      "\u001b[1;31mRuntimeError\u001b[0m: Failed to process string with tex because latex could not be found"
     ]
    },
    {
     "data": {
      "text/plain": [
       "<Figure size 432x288 with 1 Axes>"
      ]
     },
     "metadata": {},
     "output_type": "display_data"
    }
   ],
   "source": [
    "# Plots of Results\n",
    "plt.rc('text', usetex=False)\n",
    "plt.rc('font', family='serif')\n",
    "plt.style.use({'figure.facecolor':'white'})\n",
    "\n",
    "# Raw Data and Exact Function\n",
    "if gp_train == True:\n",
    "    plt.plot(xi, yexacthf, color='black', label='Exact HF function')\n",
    "    plt.plot(xi, yexactlf, color='lightblue', label='Exact LF function')\n",
    "    plt.plot(xhf, yhf, 'o', color='black', label='HF Data')\n",
    "    plt.plot(xlf, ylf, 'x', color='black', label='LF Data')\n",
    "    plt.plot(xi, ylf_gp, '-', color='green', label='GP LF')\n",
    "    plt.fill_between(xi.flatten(), (ylf_gp - ylf_gp_std).flatten(), (ylf_gp + ylf_gp_std).flatten(), color='green', alpha=0.2)\n",
    "    plt.plot(xi, yhf_gp, '-', color='red', label='GP HF')\n",
    "    plt.fill_between(xi.flatten(), (yhf_gp - yhf_gp_std).flatten(), (yhf_gp + yhf_gp_std).flatten(), color='red', alpha=0.2)\n",
    "    plt.plot(xi, ymf_gp, '-', color='blue', label='GP MF')\n",
    "    plt.fill_between(xi.flatten(), (ymf_gp - ymf_gp_std).flatten(), (ymf_gp + ymf_gp_std).flatten(), color='blue', alpha=0.2)\n",
    "    plt.legend()\n",
    "    plt.title(\"Gaussian Process Models\")\n",
    "    plt.xlabel(r'$x$', fontsize=11)\n",
    "    plt.ylabel(r'$y$', fontsize=11)\n",
    "    plt.savefig('./bench-%d-data.png' % bench)\n",
    "    plt.savefig('./bench-%d-data.pdf' % bench)\n",
    "    plt.show()\n",
    "\n",
    "if ml_train == True:\n",
    "    # Model Comparisons\n",
    "    plt.plot(xi, yexacthf, color='black', label='Exact HF function')\n",
    "    plt.plot(xhf, yhf, 'o', color='black', label='HF Data')\n",
    "    plt.plot(xlf, ylf, 'x', color='black', label='LF Data')\n",
    "    plt.plot(xi, yLF_nn, '--', color='red', label=\"SFR LF\")\n",
    "    plt.plot(xi, yHF_nn, '--', color='green', label=\"SFR HF\")\n",
    "    plt.plot(xi, yMF3lin_nn, color='lightblue', label=\"MFR 2-Step Linear\")\n",
    "    plt.plot(xi, yMF2_nn, color='orange', label=\"MFR 2-Step NL\")\n",
    "    plt.plot(xi, yMF3_nn, color='blue', label=\"MFR 3-Step NL\")\n",
    "    plt.legend()\n",
    "    plt.title(\"Neural Network Models\")\n",
    "    plt.xlabel(r'$x$', fontsize=11)\n",
    "    plt.ylabel(r'$y$', fontsize=11)\n",
    "    plt.savefig('./bench-%d-compare.png' % bench)\n",
    "    plt.savefig('./bench-%d-compare.pdf' % bench)\n",
    "    plt.show()"
   ]
  },
  {
   "cell_type": "code",
   "execution_count": null,
   "id": "bc12f378",
   "metadata": {},
   "outputs": [],
   "source": []
  }
 ],
 "metadata": {
  "kernelspec": {
   "display_name": "Python 3.9.7 64-bit",
   "language": "python",
   "name": "python3"
  },
  "language_info": {
   "codemirror_mode": {
    "name": "ipython",
    "version": 3
   },
   "file_extension": ".py",
   "mimetype": "text/x-python",
   "name": "python",
   "nbconvert_exporter": "python",
   "pygments_lexer": "ipython3",
   "version": "3.9.7"
  },
  "vscode": {
   "interpreter": {
    "hash": "081af3024f16a256c5b6c8c49e7d6c68935d0cb335782e21a8d7e5584a02a432"
   }
  }
 },
 "nbformat": 4,
 "nbformat_minor": 5
}
