{
 "cells": [
  {
   "cell_type": "code",
   "execution_count": null,
   "metadata": {},
   "outputs": [],
   "source": [
    "import nbformat as nbf\n",
    "from glob import glob\n",
    "\n",
    "import uuid\n",
    "def get_cell_id(id_length=8):\n",
    "    return uuid.uuid4().hex[:id_length]\n",
    "\n",
    "# -- SETUP\n",
    "nb_name = 'my_notebook'\n",
    "\n",
    "# -- MAIN\n",
    "# grab notebook\n",
    "notebooks = list(filter(lambda x: nb_name in x, glob(\"./*.ipynb\", recursive=True)))\n",
    "\n",
    "# iterate over notebooks\n",
    "for ipath in sorted(notebooks):\n",
    "    # load notebook\n",
    "    ntbk = nbf.read(ipath, nbf.NO_CONVERT)\n",
    "    \n",
    "    cell_ids = []\n",
    "    for cell in ntbk.cells:\n",
    "        cell_ids.append(cell['id'])\n",
    "\n",
    "    # reset cell ids if there are duplicates\n",
    "    if not len(cell_ids) == len(set(cell_ids)): \n",
    "        for cell in ntbk.cells:\n",
    "            cell['id'] = get_cell_id()\n",
    "\n",
    "        nbf.write(ntbk, ipath)"
   ]
  }
 ],
 "metadata": {
  "kernelspec": {
   "display_name": "Python 3.9.7 64-bit",
   "language": "python",
   "name": "python3"
  },
  "language_info": {
   "name": "python",
   "version": "3.9.7"
  },
  "orig_nbformat": 4,
  "vscode": {
   "interpreter": {
    "hash": "081af3024f16a256c5b6c8c49e7d6c68935d0cb335782e21a8d7e5584a02a432"
   }
  }
 },
 "nbformat": 4,
 "nbformat_minor": 2
}
